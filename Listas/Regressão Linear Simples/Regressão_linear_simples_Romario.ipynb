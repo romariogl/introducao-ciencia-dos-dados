{
  "nbformat": 4,
  "nbformat_minor": 0,
  "metadata": {
    "colab": {
      "name": "Regressão linear simples - Romario",
      "provenance": [],
      "collapsed_sections": []
    },
    "kernelspec": {
      "name": "python3",
      "display_name": "Python 3"
    },
    "language_info": {
      "name": "python"
    }
  },
  "cells": [
    {
      "cell_type": "markdown",
      "metadata": {
        "id": "1eD7Vd7Ijx9a"
      },
      "source": [
        "Objetivo:   \n",
        "Escolher um base de dados e computar uma regressão linear simples, encontrando os seguintes parâmetros:\n",
        "1. Coeficientes: Beta0 e Beta1.\n",
        "2. Soma do Erro Médio Quadrado . \n",
        "3. Coeficiente de Determinação."
      ]
    },
    {
      "cell_type": "code",
      "metadata": {
        "id": "z3rhKWMBihSy",
        "colab": {
          "base_uri": "https://localhost:8080/"
        },
        "outputId": "dda93589-9248-4605-d8d3-870712d1c6c0"
      },
      "source": [
        "# importando as bibliotecas necessárias\n",
        "import matplotlib.pyplot as plt\n",
        "import pandas as pd\n",
        "import numpy as np\n",
        "from sklearn import datasets, linear_model\n",
        "from sklearn.metrics import mean_squared_error, r2_score\n",
        "from sklearn.model_selection import train_test_split\n",
        "\n",
        "#lendo o dataset, neste dataset é relatado os custos médicos por pessoa \n",
        "df = pd.read_csv(\"insurance.csv\", header=0)\n",
        "\n",
        "#Tratamento para retirar alguns outliers que se destaquem muito da média\n",
        "Outliers = 1.33*df.charges.mean()\n",
        "\n",
        "#Para melhorar o estudo da regressão diminui-se o dataset para estudar apenas mulheres, e que não são fumantes, também é retirado os outliers conforme explicado anteriormente\n",
        "dfFiltered = df[(df.sex==\"female\")&(df.smoker==\"no\")&(df.charges < Outliers)]\n",
        "\n",
        "#Printando a quantidade de dados ainda restante, para garantir que não houve uma perda muito grande graças as filtranges anteriores\n",
        "print(dfFiltered.shape)\n",
        "\n",
        "#Retirando as colunas que interessam ao estudo, vamos fazer uma regressão para encontrar a relação entre custos e a idade\n",
        "age_X = dfFiltered.loc[:,\"age\"].values\n",
        "charges_Y = dfFiltered.loc[:,\"charges\"].values\n",
        "\n",
        "\n",
        "#Separando entre dados de teste e dados de treino\n",
        "age_X_train, age_X_test, charges_Y_train, charges_Y_test = train_test_split(age_X, charges_Y)\n",
        "\n",
        "# Cria um objeto de regressão linear\n",
        "regr = linear_model.LinearRegression()\n",
        "\n",
        "#Muda o formato dos dados X para ser aceito pela biblioteca:\n",
        "age_X_train_reshaped = age_X_train.reshape((-1,1))\n",
        "age_X_test_reshaped = age_X_test.reshape((-1,1))\n",
        "\n",
        "\n",
        "#Treina o modelo linear com os dados de treino\n",
        "regr.fit(age_X_train_reshaped, charges_Y_train)\n",
        "\n",
        "#Faz uma predição com os dados de teste\n",
        "charges_y_pred = regr.predict(age_X_test_reshaped)\n",
        "\n",
        "# Os coeficientes\n",
        "print(\"Valor de beta 1: \\n\", regr.coef_[0])\n",
        "print(\"valor de beta 0:\\n\", regr.intercept_)\n",
        "\n",
        "# Apresenta o erro quadrático médio\n",
        "print(\"Erro quadrático médio: \", mean_squared_error(charges_Y_test, charges_y_pred))\n",
        "# Apresenta o coeficiente determinação\n",
        "print(\"Coeficiente de determinação: \", r2_score(charges_Y_test, charges_y_pred))"
      ],
      "execution_count": 216,
      "outputs": [
        {
          "output_type": "stream",
          "name": "stdout",
          "text": [
            "(507, 7)\n",
            "Valor de beta 1: \n",
            " 257.83694206024404\n",
            "valor de beta 0:\n",
            " -2620.0437809499936\n",
            "Erro quadrático médio:  1569065.9075588356\n",
            "Coeficiente de determinação:  0.8946576906205186\n"
          ]
        }
      ]
    },
    {
      "cell_type": "markdown",
      "metadata": {
        "id": "4_HKhJPBtyy-"
      },
      "source": [
        "Agora plotando os gráficos:"
      ]
    },
    {
      "cell_type": "code",
      "metadata": {
        "colab": {
          "base_uri": "https://localhost:8080/",
          "height": 252
        },
        "id": "aVhkuBGWt1Ee",
        "outputId": "d90e7b0b-9ddb-436a-c797-84cbf9084fb4"
      },
      "source": [
        "# Plota os pontos de testes e a reta de predição obtida na aplicação de modelagem\n",
        "plt.scatter(age_X_test, charges_Y_test,  color='black')\n",
        "plt.plot(age_X_test, charges_y_pred, color='green', linewidth=3)\n",
        "\n",
        "plt.xticks(())\n",
        "plt.yticks(())\n",
        "\n",
        "plt.show()"
      ],
      "execution_count": 217,
      "outputs": [
        {
          "output_type": "display_data",
          "data": {
            "image/png": "[encoded data removed]",
            "text/plain": [
              "<Figure size 432x288 with 1 Axes>"
            ]
          },
          "metadata": {}
        }
      ]
    }
  ]
}