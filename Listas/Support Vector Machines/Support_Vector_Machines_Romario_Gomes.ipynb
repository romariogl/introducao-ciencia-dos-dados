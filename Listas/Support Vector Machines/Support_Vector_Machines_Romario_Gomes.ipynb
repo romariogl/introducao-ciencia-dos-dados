{
  "nbformat": 4,
  "nbformat_minor": 0,
  "metadata": {
    "colab": {
      "name": "Support Vector Machines - Romario Gomes.ipynb",
      "provenance": []
    },
    "kernelspec": {
      "display_name": "Python 3",
      "name": "python3"
    },
    "language_info": {
      "name": "python"
    }
  },
  "cells": [
    {
      "cell_type": "markdown",
      "metadata": {
        "id": "jgEXobTxFQRV"
      },
      "source": [
        "##Importando bibliotecas:"
      ]
    },
    {
      "cell_type": "code",
      "metadata": {
        "id": "_la7EWj6D2rs"
      },
      "source": [
        "# Imports\n",
        "from sklearn.model_selection import train_test_split\n",
        "import numpy as np\n",
        "import matplotlib.pyplot as plt\n",
        "from sklearn import svm\n",
        "from sklearn.metrics import plot_confusion_matrix\n",
        "import pandas as pd"
      ],
      "execution_count": 28,
      "outputs": []
    },
    {
      "cell_type": "markdown",
      "metadata": {
        "id": "xSuZWHJxFXjX"
      },
      "source": [
        "## Lendo dataset, separando dados de teste e treino, criando SVM com Kernel apropriado:"
      ]
    },
    {
      "cell_type": "markdown",
      "metadata": {
        "id": "riPHUpRPUNNd"
      },
      "source": [
        "Primeiro vamos  ler o dataset e organizar o tipo categórico em númerico. \"fire=1\", \"not fire=0\""
      ]
    },
    {
      "cell_type": "code",
      "metadata": {
        "colab": {
          "base_uri": "https://localhost:8080/",
          "height": 220
        },
        "id": "9Adk_7KPHxwm",
        "outputId": "453a536f-e4bc-4373-a6ea-0ef46c9cf49e"
      },
      "source": [
        "#Lendo dataset\n",
        "df = pd.read_csv(\"algerian_forest_fires.csv\")\n",
        "print(df.shape)\n",
        "df.head()\n"
      ],
      "execution_count": 34,
      "outputs": [
        {
          "output_type": "stream",
          "name": "stdout",
          "text": [
            "(243, 14)\n"
          ]
        },
        {
          "output_type": "execute_result",
          "data": {
            "text/html": [
              "<div>\n",
              "<style scoped>\n",
              "    .dataframe tbody tr th:only-of-type {\n",
              "        vertical-align: middle;\n",
              "    }\n",
              "\n",
              "    .dataframe tbody tr th {\n",
              "        vertical-align: top;\n",
              "    }\n",
              "\n",
              "    .dataframe thead th {\n",
              "        text-align: right;\n",
              "    }\n",
              "</style>\n",
              "<table border=\"1\" class=\"dataframe\">\n",
              "  <thead>\n",
              "    <tr style=\"text-align: right;\">\n",
              "      <th></th>\n",
              "      <th>day</th>\n",
              "      <th>month</th>\n",
              "      <th>year</th>\n",
              "      <th>temperature</th>\n",
              "      <th>RH</th>\n",
              "      <th>WS</th>\n",
              "      <th>rain</th>\n",
              "      <th>FFMC</th>\n",
              "      <th>DMC</th>\n",
              "      <th>DC</th>\n",
              "      <th>ISI</th>\n",
              "      <th>BUI</th>\n",
              "      <th>FWI</th>\n",
              "      <th>classes</th>\n",
              "    </tr>\n",
              "  </thead>\n",
              "  <tbody>\n",
              "    <tr>\n",
              "      <th>0</th>\n",
              "      <td>1</td>\n",
              "      <td>6</td>\n",
              "      <td>2012</td>\n",
              "      <td>29</td>\n",
              "      <td>57</td>\n",
              "      <td>18</td>\n",
              "      <td>0.0</td>\n",
              "      <td>65.7</td>\n",
              "      <td>3.4</td>\n",
              "      <td>7.6</td>\n",
              "      <td>1.3</td>\n",
              "      <td>3.4</td>\n",
              "      <td>0.5</td>\n",
              "      <td>notfire</td>\n",
              "    </tr>\n",
              "    <tr>\n",
              "      <th>1</th>\n",
              "      <td>2</td>\n",
              "      <td>6</td>\n",
              "      <td>2012</td>\n",
              "      <td>29</td>\n",
              "      <td>61</td>\n",
              "      <td>13</td>\n",
              "      <td>1.3</td>\n",
              "      <td>64.4</td>\n",
              "      <td>4.1</td>\n",
              "      <td>7.6</td>\n",
              "      <td>1.0</td>\n",
              "      <td>3.9</td>\n",
              "      <td>0.4</td>\n",
              "      <td>notfire</td>\n",
              "    </tr>\n",
              "    <tr>\n",
              "      <th>2</th>\n",
              "      <td>3</td>\n",
              "      <td>6</td>\n",
              "      <td>2012</td>\n",
              "      <td>26</td>\n",
              "      <td>82</td>\n",
              "      <td>22</td>\n",
              "      <td>13.1</td>\n",
              "      <td>47.1</td>\n",
              "      <td>2.5</td>\n",
              "      <td>7.1</td>\n",
              "      <td>0.3</td>\n",
              "      <td>2.7</td>\n",
              "      <td>0.1</td>\n",
              "      <td>notfire</td>\n",
              "    </tr>\n",
              "    <tr>\n",
              "      <th>3</th>\n",
              "      <td>4</td>\n",
              "      <td>6</td>\n",
              "      <td>2012</td>\n",
              "      <td>25</td>\n",
              "      <td>89</td>\n",
              "      <td>13</td>\n",
              "      <td>2.5</td>\n",
              "      <td>28.6</td>\n",
              "      <td>1.3</td>\n",
              "      <td>6.9</td>\n",
              "      <td>0.0</td>\n",
              "      <td>1.7</td>\n",
              "      <td>0.0</td>\n",
              "      <td>notfire</td>\n",
              "    </tr>\n",
              "    <tr>\n",
              "      <th>4</th>\n",
              "      <td>5</td>\n",
              "      <td>6</td>\n",
              "      <td>2012</td>\n",
              "      <td>27</td>\n",
              "      <td>77</td>\n",
              "      <td>16</td>\n",
              "      <td>0.0</td>\n",
              "      <td>64.8</td>\n",
              "      <td>3.0</td>\n",
              "      <td>14.2</td>\n",
              "      <td>1.2</td>\n",
              "      <td>3.9</td>\n",
              "      <td>0.5</td>\n",
              "      <td>notfire</td>\n",
              "    </tr>\n",
              "  </tbody>\n",
              "</table>\n",
              "</div>"
            ],
            "text/plain": [
              "   day  month  year  temperature  RH  WS  ...  DMC    DC  ISI  BUI  FWI  classes\n",
              "0    1      6  2012           29  57  18  ...  3.4   7.6  1.3  3.4  0.5  notfire\n",
              "1    2      6  2012           29  61  13  ...  4.1   7.6  1.0  3.9  0.4  notfire\n",
              "2    3      6  2012           26  82  22  ...  2.5   7.1  0.3  2.7  0.1  notfire\n",
              "3    4      6  2012           25  89  13  ...  1.3   6.9  0.0  1.7  0.0  notfire\n",
              "4    5      6  2012           27  77  16  ...  3.0  14.2  1.2  3.9  0.5  notfire\n",
              "\n",
              "[5 rows x 14 columns]"
            ]
          },
          "metadata": {},
          "execution_count": 34
        }
      ]
    },
    {
      "cell_type": "code",
      "metadata": {
        "colab": {
          "base_uri": "https://localhost:8080/",
          "height": 220
        },
        "id": "LL2yH_AJUgBm",
        "outputId": "59485910-9767-4321-ade0-7bd1689da77c"
      },
      "source": [
        "#como as classes são \"fire\" e \"not fire\" vamos converter para valores inteiros 0 e 1\n",
        "df.loc[df.classes == \"fire\", 'classes'] = 1\n",
        "df.loc[df.classes == \"notfire\", 'classes'] = 0\n",
        "print(df.shape)\n",
        "df.head()"
      ],
      "execution_count": 35,
      "outputs": [
        {
          "output_type": "stream",
          "name": "stdout",
          "text": [
            "(243, 14)\n"
          ]
        },
        {
          "output_type": "execute_result",
          "data": {
            "text/html": [
              "<div>\n",
              "<style scoped>\n",
              "    .dataframe tbody tr th:only-of-type {\n",
              "        vertical-align: middle;\n",
              "    }\n",
              "\n",
              "    .dataframe tbody tr th {\n",
              "        vertical-align: top;\n",
              "    }\n",
              "\n",
              "    .dataframe thead th {\n",
              "        text-align: right;\n",
              "    }\n",
              "</style>\n",
              "<table border=\"1\" class=\"dataframe\">\n",
              "  <thead>\n",
              "    <tr style=\"text-align: right;\">\n",
              "      <th></th>\n",
              "      <th>day</th>\n",
              "      <th>month</th>\n",
              "      <th>year</th>\n",
              "      <th>temperature</th>\n",
              "      <th>RH</th>\n",
              "      <th>WS</th>\n",
              "      <th>rain</th>\n",
              "      <th>FFMC</th>\n",
              "      <th>DMC</th>\n",
              "      <th>DC</th>\n",
              "      <th>ISI</th>\n",
              "      <th>BUI</th>\n",
              "      <th>FWI</th>\n",
              "      <th>classes</th>\n",
              "    </tr>\n",
              "  </thead>\n",
              "  <tbody>\n",
              "    <tr>\n",
              "      <th>0</th>\n",
              "      <td>1</td>\n",
              "      <td>6</td>\n",
              "      <td>2012</td>\n",
              "      <td>29</td>\n",
              "      <td>57</td>\n",
              "      <td>18</td>\n",
              "      <td>0.0</td>\n",
              "      <td>65.7</td>\n",
              "      <td>3.4</td>\n",
              "      <td>7.6</td>\n",
              "      <td>1.3</td>\n",
              "      <td>3.4</td>\n",
              "      <td>0.5</td>\n",
              "      <td>0</td>\n",
              "    </tr>\n",
              "    <tr>\n",
              "      <th>1</th>\n",
              "      <td>2</td>\n",
              "      <td>6</td>\n",
              "      <td>2012</td>\n",
              "      <td>29</td>\n",
              "      <td>61</td>\n",
              "      <td>13</td>\n",
              "      <td>1.3</td>\n",
              "      <td>64.4</td>\n",
              "      <td>4.1</td>\n",
              "      <td>7.6</td>\n",
              "      <td>1.0</td>\n",
              "      <td>3.9</td>\n",
              "      <td>0.4</td>\n",
              "      <td>0</td>\n",
              "    </tr>\n",
              "    <tr>\n",
              "      <th>2</th>\n",
              "      <td>3</td>\n",
              "      <td>6</td>\n",
              "      <td>2012</td>\n",
              "      <td>26</td>\n",
              "      <td>82</td>\n",
              "      <td>22</td>\n",
              "      <td>13.1</td>\n",
              "      <td>47.1</td>\n",
              "      <td>2.5</td>\n",
              "      <td>7.1</td>\n",
              "      <td>0.3</td>\n",
              "      <td>2.7</td>\n",
              "      <td>0.1</td>\n",
              "      <td>0</td>\n",
              "    </tr>\n",
              "    <tr>\n",
              "      <th>3</th>\n",
              "      <td>4</td>\n",
              "      <td>6</td>\n",
              "      <td>2012</td>\n",
              "      <td>25</td>\n",
              "      <td>89</td>\n",
              "      <td>13</td>\n",
              "      <td>2.5</td>\n",
              "      <td>28.6</td>\n",
              "      <td>1.3</td>\n",
              "      <td>6.9</td>\n",
              "      <td>0.0</td>\n",
              "      <td>1.7</td>\n",
              "      <td>0.0</td>\n",
              "      <td>0</td>\n",
              "    </tr>\n",
              "    <tr>\n",
              "      <th>4</th>\n",
              "      <td>5</td>\n",
              "      <td>6</td>\n",
              "      <td>2012</td>\n",
              "      <td>27</td>\n",
              "      <td>77</td>\n",
              "      <td>16</td>\n",
              "      <td>0.0</td>\n",
              "      <td>64.8</td>\n",
              "      <td>3.0</td>\n",
              "      <td>14.2</td>\n",
              "      <td>1.2</td>\n",
              "      <td>3.9</td>\n",
              "      <td>0.5</td>\n",
              "      <td>0</td>\n",
              "    </tr>\n",
              "  </tbody>\n",
              "</table>\n",
              "</div>"
            ],
            "text/plain": [
              "   day  month  year  temperature  RH  WS  ...  DMC    DC  ISI  BUI  FWI  classes\n",
              "0    1      6  2012           29  57  18  ...  3.4   7.6  1.3  3.4  0.5        0\n",
              "1    2      6  2012           29  61  13  ...  4.1   7.6  1.0  3.9  0.4        0\n",
              "2    3      6  2012           26  82  22  ...  2.5   7.1  0.3  2.7  0.1        0\n",
              "3    4      6  2012           25  89  13  ...  1.3   6.9  0.0  1.7  0.0        0\n",
              "4    5      6  2012           27  77  16  ...  3.0  14.2  1.2  3.9  0.5        0\n",
              "\n",
              "[5 rows x 14 columns]"
            ]
          },
          "metadata": {},
          "execution_count": 35
        }
      ]
    },
    {
      "cell_type": "markdown",
      "metadata": {
        "id": "pO8_nG-ZUqIi"
      },
      "source": [
        "Agora vamos separar os dados"
      ]
    },
    {
      "cell_type": "code",
      "metadata": {
        "colab": {
          "base_uri": "https://localhost:8080/"
        },
        "id": "Vm1nuwkRUkC2",
        "outputId": "93c57975-e145-4ad2-9064-45b0e4c8d544"
      },
      "source": [
        "#Separando entre dados de teste e treino\n",
        "x = df[['temperature', 'RH', 'WS', 'rain', 'FFMC', 'DMC', 'DC', 'ISI', 'BUI', 'FWI']]\n",
        "print(x.shape)\n",
        "y=df.loc[:,'classes']\n",
        "print(y.shape)\n",
        "y=y.astype('int')\n",
        "x_train, x_test, y_train, y_test = train_test_split(x, y)\n",
        "print(x_train.shape, y_train.shape, x_test.shape, y_test.shape)"
      ],
      "execution_count": 37,
      "outputs": [
        {
          "output_type": "stream",
          "name": "stdout",
          "text": [
            "(243, 10)\n",
            "(243,)\n",
            "(182, 10) (182,) (61, 10) (61,)\n"
          ]
        }
      ]
    },
    {
      "cell_type": "markdown",
      "metadata": {
        "id": "eLBGKmBkWO67"
      },
      "source": [
        "Agora vamos inicializar o SVM"
      ]
    },
    {
      "cell_type": "code",
      "metadata": {
        "id": "urB1zvJJWTl3"
      },
      "source": [
        "#criando classificador com kernel linear, foi o que apresentou menos erro para o conjunto de dados\n",
        "clf = svm.SVC(kernel='linear')\n",
        "\n",
        "#Encontrando o modelo ajustado aos daods\n",
        "clf = clf.fit(x_train, y_train)"
      ],
      "execution_count": 38,
      "outputs": []
    },
    {
      "cell_type": "markdown",
      "metadata": {
        "id": "Gbyw0Er5Hx12"
      },
      "source": [
        "##Predizendo dados, matriz de confusão:"
      ]
    },
    {
      "cell_type": "markdown",
      "metadata": {
        "id": "_ACAAMySWp6d"
      },
      "source": [
        "Fazendo predição:"
      ]
    },
    {
      "cell_type": "code",
      "metadata": {
        "colab": {
          "base_uri": "https://localhost:8080/"
        },
        "id": "rd6oBC2IIM34",
        "outputId": "90e6ec69-d4ad-42ef-d9f5-08a9537e70f0"
      },
      "source": [
        "#Predizendo\n",
        "predictions = clf.predict(x_test)\n",
        "\n",
        "#Printando a diferença entre o dado predito e os dados de teste, caso dê 0 significa que foi correta a predição, caso dê 1 ou -1 significa que foi errada a predição\n",
        "print(predictions-y_test.values)"
      ],
      "execution_count": 39,
      "outputs": [
        {
          "output_type": "stream",
          "name": "stdout",
          "text": [
            "[0 0 0 0 0 0 0 0 0 0 0 0 0 0 0 1 0 0 0 0 0 0 0 0 0 0 0 0 0 0 0 0 0 0 0 0 0\n",
            " 0 0 0 0 0 0 0 0 0 0 0 0 0 0 0 0 0 0 0 0 0 0 0 0]\n"
          ]
        }
      ]
    },
    {
      "cell_type": "markdown",
      "metadata": {
        "id": "aaIlOmzbWto9"
      },
      "source": [
        "Gerando a matriz de confusão: "
      ]
    },
    {
      "cell_type": "code",
      "metadata": {
        "colab": {
          "base_uri": "https://localhost:8080/",
          "height": 294
        },
        "id": "IS1V8ycjWwH_",
        "outputId": "e418d2e3-ab7b-4697-e4d1-ea97d48da6e0"
      },
      "source": [
        "#gerando matriz e plotando\n",
        "matrix = plot_confusion_matrix(clf, x_test, y_test,\n",
        "                                 cmap=plt.cm.Blues,\n",
        "                                 normalize='true')\n",
        "plt.title('Confusion matrix for our classifier')\n",
        "plt.show(matrix)"
      ],
      "execution_count": 40,
      "outputs": [
        {
          "output_type": "display_data",
          "data": {
            "image/png": "[encoded data removed]",
            "text/plain": [
              "<Figure size 432x288 with 2 Axes>"
            ]
          },
          "metadata": {
            "needs_background": "light"
          }
        }
      ]
    },
    {
      "cell_type": "markdown",
      "metadata": {
        "id": "E9QD3wXasUlG"
      },
      "source": [
        "A matriz de confusão mostra a proporção de predições corretas e incorretas do nosso modelo, quanto mais próximo de 1 (predicted label e true label), significa que as predições ocorreram na classe correta"
      ]
    }
  ]
}