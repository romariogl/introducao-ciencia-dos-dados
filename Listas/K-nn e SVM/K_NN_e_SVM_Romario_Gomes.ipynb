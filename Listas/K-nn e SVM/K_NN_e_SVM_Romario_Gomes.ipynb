{
  "nbformat": 4,
  "nbformat_minor": 0,
  "metadata": {
    "colab": {
      "name": "K-NN  e SVM - Romario Gomes.ipynb",
      "provenance": [],
      "collapsed_sections": [
        "xSuZWHJxFXjX"
      ]
    },
    "kernelspec": {
      "display_name": "Python 3",
      "name": "python3"
    },
    "language_info": {
      "name": "python"
    }
  },
  "cells": [
    {
      "cell_type": "markdown",
      "metadata": {
        "id": "jgEXobTxFQRV"
      },
      "source": [
        "#Importando bibliotecas, lendo dataset, separando dados de teste e treino:"
      ]
    },
    {
      "cell_type": "code",
      "metadata": {
        "id": "_la7EWj6D2rs"
      },
      "source": [
        "# Imports\n",
        "from sklearn.model_selection import train_test_split\n",
        "import numpy as np\n",
        "import matplotlib.pyplot as plt\n",
        "from sklearn import svm, preprocessing\n",
        "from sklearn.metrics import plot_confusion_matrix, classification_report, mean_squared_error\n",
        "import pandas as pd\n",
        "from sklearn.neighbors import KNeighborsClassifier"
      ],
      "execution_count": 415,
      "outputs": []
    },
    {
      "cell_type": "markdown",
      "metadata": {
        "id": "riPHUpRPUNNd"
      },
      "source": [
        "Primeiro vamos  ler o dataset, os dados são de tal forma que são mostrada várias questões em relação a riscos, competitivdade e questões financeiras, e por fim classifica se ocorreu ou não falência. "
      ]
    },
    {
      "cell_type": "code",
      "metadata": {
        "colab": {
          "base_uri": "https://localhost:8080/",
          "height": 204
        },
        "id": "ZmzaTeZLMQKG",
        "outputId": "7927e83c-ecd3-4f64-97da-261a918eb8d2"
      },
      "source": [
        "#Lendo dataset\n",
        "df = pd.read_csv(\"Qualitative_Bankruptcy.csv\", names=['Industrial Risk','Management Risk','Financial Flexibility','Credibility','Competitiveness', 'Operating Risk', 'Class'])\n",
        "df.head()"
      ],
      "execution_count": 416,
      "outputs": [
        {
          "output_type": "execute_result",
          "data": {
            "text/html": [
              "<div>\n",
              "<style scoped>\n",
              "    .dataframe tbody tr th:only-of-type {\n",
              "        vertical-align: middle;\n",
              "    }\n",
              "\n",
              "    .dataframe tbody tr th {\n",
              "        vertical-align: top;\n",
              "    }\n",
              "\n",
              "    .dataframe thead th {\n",
              "        text-align: right;\n",
              "    }\n",
              "</style>\n",
              "<table border=\"1\" class=\"dataframe\">\n",
              "  <thead>\n",
              "    <tr style=\"text-align: right;\">\n",
              "      <th></th>\n",
              "      <th>Industrial Risk</th>\n",
              "      <th>Management Risk</th>\n",
              "      <th>Financial Flexibility</th>\n",
              "      <th>Credibility</th>\n",
              "      <th>Competitiveness</th>\n",
              "      <th>Operating Risk</th>\n",
              "      <th>Class</th>\n",
              "    </tr>\n",
              "  </thead>\n",
              "  <tbody>\n",
              "    <tr>\n",
              "      <th>0</th>\n",
              "      <td>P</td>\n",
              "      <td>P</td>\n",
              "      <td>A</td>\n",
              "      <td>A</td>\n",
              "      <td>A</td>\n",
              "      <td>P</td>\n",
              "      <td>NB</td>\n",
              "    </tr>\n",
              "    <tr>\n",
              "      <th>1</th>\n",
              "      <td>N</td>\n",
              "      <td>N</td>\n",
              "      <td>A</td>\n",
              "      <td>A</td>\n",
              "      <td>A</td>\n",
              "      <td>N</td>\n",
              "      <td>NB</td>\n",
              "    </tr>\n",
              "    <tr>\n",
              "      <th>2</th>\n",
              "      <td>A</td>\n",
              "      <td>A</td>\n",
              "      <td>A</td>\n",
              "      <td>A</td>\n",
              "      <td>A</td>\n",
              "      <td>A</td>\n",
              "      <td>NB</td>\n",
              "    </tr>\n",
              "    <tr>\n",
              "      <th>3</th>\n",
              "      <td>P</td>\n",
              "      <td>P</td>\n",
              "      <td>P</td>\n",
              "      <td>P</td>\n",
              "      <td>P</td>\n",
              "      <td>P</td>\n",
              "      <td>NB</td>\n",
              "    </tr>\n",
              "    <tr>\n",
              "      <th>4</th>\n",
              "      <td>N</td>\n",
              "      <td>N</td>\n",
              "      <td>P</td>\n",
              "      <td>P</td>\n",
              "      <td>P</td>\n",
              "      <td>N</td>\n",
              "      <td>NB</td>\n",
              "    </tr>\n",
              "  </tbody>\n",
              "</table>\n",
              "</div>"
            ],
            "text/plain": [
              "  Industrial Risk Management Risk  ... Operating Risk Class\n",
              "0               P               P  ...              P    NB\n",
              "1               N               N  ...              N    NB\n",
              "2               A               A  ...              A    NB\n",
              "3               P               P  ...              P    NB\n",
              "4               N               N  ...              N    NB\n",
              "\n",
              "[5 rows x 7 columns]"
            ]
          },
          "metadata": {},
          "execution_count": 416
        }
      ]
    },
    {
      "cell_type": "code",
      "metadata": {
        "colab": {
          "base_uri": "https://localhost:8080/",
          "height": 204
        },
        "id": "3sd637eEUxcO",
        "outputId": "54480415-f9b2-4ec0-b009-d813d822fe43"
      },
      "source": [
        "df[\"Industrial Risk\"]=preprocessing.LabelEncoder().fit_transform(df[\"Industrial Risk\"])\n",
        "df[\"Management Risk\"]=preprocessing.LabelEncoder().fit_transform(df[\"Management Risk\"])\n",
        "df[\"Financial Flexibility\"]=preprocessing.LabelEncoder().fit_transform(df[\"Financial Flexibility\"])\n",
        "df[\"Credibility\"]=preprocessing.LabelEncoder().fit_transform(df[\"Credibility\"])\n",
        "df[\"Competitiveness\"]=preprocessing.LabelEncoder().fit_transform(df[\"Competitiveness\"])\n",
        "df[\"Operating Risk\"]=preprocessing.LabelEncoder().fit_transform(df[\"Operating Risk\"])\n",
        "df[\"Class\"]=preprocessing.LabelEncoder().fit_transform(df[\"Class\"])\n",
        "\n",
        "df.head()"
      ],
      "execution_count": 417,
      "outputs": [
        {
          "output_type": "execute_result",
          "data": {
            "text/html": [
              "<div>\n",
              "<style scoped>\n",
              "    .dataframe tbody tr th:only-of-type {\n",
              "        vertical-align: middle;\n",
              "    }\n",
              "\n",
              "    .dataframe tbody tr th {\n",
              "        vertical-align: top;\n",
              "    }\n",
              "\n",
              "    .dataframe thead th {\n",
              "        text-align: right;\n",
              "    }\n",
              "</style>\n",
              "<table border=\"1\" class=\"dataframe\">\n",
              "  <thead>\n",
              "    <tr style=\"text-align: right;\">\n",
              "      <th></th>\n",
              "      <th>Industrial Risk</th>\n",
              "      <th>Management Risk</th>\n",
              "      <th>Financial Flexibility</th>\n",
              "      <th>Credibility</th>\n",
              "      <th>Competitiveness</th>\n",
              "      <th>Operating Risk</th>\n",
              "      <th>Class</th>\n",
              "    </tr>\n",
              "  </thead>\n",
              "  <tbody>\n",
              "    <tr>\n",
              "      <th>0</th>\n",
              "      <td>2</td>\n",
              "      <td>2</td>\n",
              "      <td>0</td>\n",
              "      <td>0</td>\n",
              "      <td>0</td>\n",
              "      <td>2</td>\n",
              "      <td>1</td>\n",
              "    </tr>\n",
              "    <tr>\n",
              "      <th>1</th>\n",
              "      <td>1</td>\n",
              "      <td>1</td>\n",
              "      <td>0</td>\n",
              "      <td>0</td>\n",
              "      <td>0</td>\n",
              "      <td>1</td>\n",
              "      <td>1</td>\n",
              "    </tr>\n",
              "    <tr>\n",
              "      <th>2</th>\n",
              "      <td>0</td>\n",
              "      <td>0</td>\n",
              "      <td>0</td>\n",
              "      <td>0</td>\n",
              "      <td>0</td>\n",
              "      <td>0</td>\n",
              "      <td>1</td>\n",
              "    </tr>\n",
              "    <tr>\n",
              "      <th>3</th>\n",
              "      <td>2</td>\n",
              "      <td>2</td>\n",
              "      <td>2</td>\n",
              "      <td>2</td>\n",
              "      <td>2</td>\n",
              "      <td>2</td>\n",
              "      <td>1</td>\n",
              "    </tr>\n",
              "    <tr>\n",
              "      <th>4</th>\n",
              "      <td>1</td>\n",
              "      <td>1</td>\n",
              "      <td>2</td>\n",
              "      <td>2</td>\n",
              "      <td>2</td>\n",
              "      <td>1</td>\n",
              "      <td>1</td>\n",
              "    </tr>\n",
              "  </tbody>\n",
              "</table>\n",
              "</div>"
            ],
            "text/plain": [
              "   Industrial Risk  Management Risk  ...  Operating Risk  Class\n",
              "0                2                2  ...               2      1\n",
              "1                1                1  ...               1      1\n",
              "2                0                0  ...               0      1\n",
              "3                2                2  ...               2      1\n",
              "4                1                1  ...               1      1\n",
              "\n",
              "[5 rows x 7 columns]"
            ]
          },
          "metadata": {},
          "execution_count": 417
        }
      ]
    },
    {
      "cell_type": "markdown",
      "metadata": {
        "id": "pO8_nG-ZUqIi"
      },
      "source": [
        "Agora vamos separar os dados"
      ]
    },
    {
      "cell_type": "code",
      "metadata": {
        "colab": {
          "base_uri": "https://localhost:8080/",
          "height": 221
        },
        "id": "Kw83t6hfM3PL",
        "outputId": "71f10bbc-ff22-48b7-c5a5-772294af328c"
      },
      "source": [
        "#Vamos separar os dados entre a variável dependente e independente\n",
        "x = df.drop(['Class'], axis=1)\n",
        "y = df['Class']\n",
        "x_train, x_test, y_train, y_test = train_test_split(x, y)\n",
        "print(x_train.shape, y_train.shape, x_test.shape, y_test.shape)\n",
        "x.head()"
      ],
      "execution_count": 418,
      "outputs": [
        {
          "output_type": "stream",
          "name": "stdout",
          "text": [
            "(187, 6) (187,) (63, 6) (63,)\n"
          ]
        },
        {
          "output_type": "execute_result",
          "data": {
            "text/html": [
              "<div>\n",
              "<style scoped>\n",
              "    .dataframe tbody tr th:only-of-type {\n",
              "        vertical-align: middle;\n",
              "    }\n",
              "\n",
              "    .dataframe tbody tr th {\n",
              "        vertical-align: top;\n",
              "    }\n",
              "\n",
              "    .dataframe thead th {\n",
              "        text-align: right;\n",
              "    }\n",
              "</style>\n",
              "<table border=\"1\" class=\"dataframe\">\n",
              "  <thead>\n",
              "    <tr style=\"text-align: right;\">\n",
              "      <th></th>\n",
              "      <th>Industrial Risk</th>\n",
              "      <th>Management Risk</th>\n",
              "      <th>Financial Flexibility</th>\n",
              "      <th>Credibility</th>\n",
              "      <th>Competitiveness</th>\n",
              "      <th>Operating Risk</th>\n",
              "    </tr>\n",
              "  </thead>\n",
              "  <tbody>\n",
              "    <tr>\n",
              "      <th>0</th>\n",
              "      <td>2</td>\n",
              "      <td>2</td>\n",
              "      <td>0</td>\n",
              "      <td>0</td>\n",
              "      <td>0</td>\n",
              "      <td>2</td>\n",
              "    </tr>\n",
              "    <tr>\n",
              "      <th>1</th>\n",
              "      <td>1</td>\n",
              "      <td>1</td>\n",
              "      <td>0</td>\n",
              "      <td>0</td>\n",
              "      <td>0</td>\n",
              "      <td>1</td>\n",
              "    </tr>\n",
              "    <tr>\n",
              "      <th>2</th>\n",
              "      <td>0</td>\n",
              "      <td>0</td>\n",
              "      <td>0</td>\n",
              "      <td>0</td>\n",
              "      <td>0</td>\n",
              "      <td>0</td>\n",
              "    </tr>\n",
              "    <tr>\n",
              "      <th>3</th>\n",
              "      <td>2</td>\n",
              "      <td>2</td>\n",
              "      <td>2</td>\n",
              "      <td>2</td>\n",
              "      <td>2</td>\n",
              "      <td>2</td>\n",
              "    </tr>\n",
              "    <tr>\n",
              "      <th>4</th>\n",
              "      <td>1</td>\n",
              "      <td>1</td>\n",
              "      <td>2</td>\n",
              "      <td>2</td>\n",
              "      <td>2</td>\n",
              "      <td>1</td>\n",
              "    </tr>\n",
              "  </tbody>\n",
              "</table>\n",
              "</div>"
            ],
            "text/plain": [
              "   Industrial Risk  Management Risk  ...  Competitiveness  Operating Risk\n",
              "0                2                2  ...                0               2\n",
              "1                1                1  ...                0               1\n",
              "2                0                0  ...                0               0\n",
              "3                2                2  ...                2               2\n",
              "4                1                1  ...                2               1\n",
              "\n",
              "[5 rows x 6 columns]"
            ]
          },
          "metadata": {},
          "execution_count": 418
        }
      ]
    },
    {
      "cell_type": "markdown",
      "metadata": {
        "id": "lYRq-s6QTwp7"
      },
      "source": [
        "#K-NN"
      ]
    },
    {
      "cell_type": "markdown",
      "metadata": {
        "id": "6ghPuDo2UwUM"
      },
      "source": [
        "Vamos primeiro aplicar alguns métodos para encontrar o K ótimo:   \n",
        "1. Gráfico de erro ao quadrado pelo k (dist**2 versus k)\n",
        "2. Gráfico de exatidão (acurácia) versus k"
      ]
    },
    {
      "cell_type": "code",
      "metadata": {
        "colab": {
          "base_uri": "https://localhost:8080/",
          "height": 296
        },
        "id": "sHmLfOWQgAC8",
        "outputId": "27013455-bc59-4ac8-ea35-5989dae779cf"
      },
      "source": [
        "#função para o gráfico de cotovelo\n",
        "def Elbow(k):\n",
        "    test_score = []\n",
        "    \n",
        "    for i in k:\n",
        "        reg = KNeighborsClassifier(n_neighbors = i)\n",
        "        reg.fit(x_train, y_train)\n",
        "        tmp = reg.predict(x_test)\n",
        "        tmp = mean_squared_error(tmp, y_test)\n",
        "        test_score.append(tmp**2)\n",
        "    \n",
        "    return test_score\n",
        "\n",
        "#gerando gráfico utilizando de k=1 até k=40\n",
        "k = range(1, 40)\n",
        "test = Elbow(k)\n",
        "\n",
        "plt.plot(k,test)\n",
        "plt.xlabel(\"K Neighbours\")\n",
        "plt.ylabel(\"Dist**2\")"
      ],
      "execution_count": 419,
      "outputs": [
        {
          "output_type": "execute_result",
          "data": {
            "text/plain": [
              "Text(0, 0.5, 'Dist**2')"
            ]
          },
          "metadata": {},
          "execution_count": 419
        },
        {
          "output_type": "display_data",
          "data": {
            "image/png": "[encoded data removed]",
            "text/plain": [
              "<Figure size 432x288 with 1 Axes>"
            ]
          },
          "metadata": {
            "needs_background": "light"
          }
        }
      ]
    },
    {
      "cell_type": "code",
      "metadata": {
        "colab": {
          "base_uri": "https://localhost:8080/"
        },
        "id": "p1wxz6MLHeZH",
        "outputId": "32d58a48-fda7-4746-a0fb-d0864e42972b"
      },
      "source": [
        "#k ótimo\n",
        "min = np.min(test)\n",
        "#print(min)\n",
        "for item in test:\n",
        "  #print(round(item, 2))\n",
        "  if round(item, 2)==min:\n",
        "    kOtimo = k[test.index(item)]\n",
        "\n",
        "print(\"k ótimo: \", kOtimo)"
      ],
      "execution_count": 420,
      "outputs": [
        {
          "output_type": "stream",
          "name": "stdout",
          "text": [
            "k ótimo:  6\n"
          ]
        }
      ]
    },
    {
      "cell_type": "code",
      "metadata": {
        "colab": {
          "base_uri": "https://localhost:8080/",
          "height": 280
        },
        "id": "apwYEQ7QWO1V",
        "outputId": "ea1bc28e-103c-4b30-84d1-1e30c2710ba1"
      },
      "source": [
        "neighbors = np.arange(1, 40)\n",
        "train_accuracy = np.empty(len(neighbors))\n",
        "test_accuracy = np.empty(len(neighbors))\n",
        " \n",
        "# Loop over K values\n",
        "for i, k in enumerate(neighbors):\n",
        "    knn = KNeighborsClassifier(n_neighbors=k)\n",
        "    knn.fit(x_train, y_train)\n",
        "     \n",
        "    # Compute training and test data accuracy\n",
        "    train_accuracy[i] = knn.score(x_train, y_train)\n",
        "    test_accuracy[i] = knn.score(x_test, y_test)\n",
        " \n",
        "# Generate plot\n",
        "plt.plot(neighbors, test_accuracy, label = 'Testing dataset Accuracy')\n",
        "plt.plot(neighbors, train_accuracy, label = 'Training dataset Accuracy')\n",
        " \n",
        "plt.legend()\n",
        "plt.xlabel('n_neighbors')\n",
        "plt.ylabel('Accuracy')\n",
        "plt.show()"
      ],
      "execution_count": 421,
      "outputs": [
        {
          "output_type": "display_data",
          "data": {
            "image/png": "[encoded data removed]",
            "text/plain": [
              "<Figure size 432x288 with 1 Axes>"
            ]
          },
          "metadata": {
            "needs_background": "light"
          }
        }
      ]
    },
    {
      "cell_type": "code",
      "metadata": {
        "colab": {
          "base_uri": "https://localhost:8080/"
        },
        "id": "00CADb9VX0Gj",
        "outputId": "e56e699a-cbfc-4b55-9807-bdb4fdb0a2eb"
      },
      "source": [
        "knn = KNeighborsClassifier(n_neighbors=kOtimo)\n",
        " \n",
        "knn.fit(x_train, y_train)\n",
        " \n",
        "# Predict on dataset which model has not seen before\n",
        "predictions = knn.predict(x_test)\n",
        "print(predictions-y_test.values)"
      ],
      "execution_count": 422,
      "outputs": [
        {
          "output_type": "stream",
          "name": "stdout",
          "text": [
            "[ 0  0  0  0  0  0  0  0  0  0  0  0  0  0  0  0  0  0  0  0  0  0  0  0\n",
            "  0  0  0  0  0  0  0  0  0  0  0  0  0  0  0  0 -1  0  0  0  0  0  0  0\n",
            "  0  0  0  0  0  0 -1 -1 -1  0  0  0  0  0  0]\n"
          ]
        }
      ]
    },
    {
      "cell_type": "code",
      "metadata": {
        "colab": {
          "base_uri": "https://localhost:8080/"
        },
        "id": "S8TSxPx5bjjW",
        "outputId": "4d254d35-9c2d-4e80-864e-4c2725f5f799"
      },
      "source": [
        "print(classification_report(y_test, predictions))"
      ],
      "execution_count": 423,
      "outputs": [
        {
          "output_type": "stream",
          "name": "stdout",
          "text": [
            "              precision    recall  f1-score   support\n",
            "\n",
            "           0       0.87      1.00      0.93        26\n",
            "           1       1.00      0.89      0.94        37\n",
            "\n",
            "    accuracy                           0.94        63\n",
            "   macro avg       0.93      0.95      0.94        63\n",
            "weighted avg       0.94      0.94      0.94        63\n",
            "\n"
          ]
        }
      ]
    },
    {
      "cell_type": "code",
      "metadata": {
        "colab": {
          "base_uri": "https://localhost:8080/",
          "height": 295
        },
        "id": "Ykr4ABjbX_Kp",
        "outputId": "1d6580ca-94b6-47a2-d55d-2adf098e2c6d"
      },
      "source": [
        "matrix = plot_confusion_matrix(knn, x_test, y_test,\n",
        "                                 cmap=plt.cm.Reds,\n",
        "                                 normalize='true')\n",
        "plt.title('Confusion matrix for our classifier')\n",
        "plt.show(matrix)"
      ],
      "execution_count": 424,
      "outputs": [
        {
          "output_type": "display_data",
          "data": {
            "image/png": "[encoded data removed]",
            "text/plain": [
              "<Figure size 432x288 with 2 Axes>"
            ]
          },
          "metadata": {
            "needs_background": "light"
          }
        }
      ]
    },
    {
      "cell_type": "markdown",
      "metadata": {
        "id": "xSuZWHJxFXjX"
      },
      "source": [
        "# SVM\n"
      ]
    },
    {
      "cell_type": "markdown",
      "metadata": {
        "id": "eLBGKmBkWO67"
      },
      "source": [
        "Criando SVM com Kernel apropriado, e treinando o modelo do SVM"
      ]
    },
    {
      "cell_type": "code",
      "metadata": {
        "id": "urB1zvJJWTl3"
      },
      "source": [
        "#criando classificador com kernel polinomial, foi o que apresentou menos erro para o conjunto de dados\n",
        "clf = svm.SVC(kernel='poly')\n",
        "\n",
        "#Encontrando o modelo ajustado aos daods\n",
        "clf = clf.fit(x_train, y_train)"
      ],
      "execution_count": 425,
      "outputs": []
    },
    {
      "cell_type": "markdown",
      "metadata": {
        "id": "_ACAAMySWp6d"
      },
      "source": [
        "Fazendo predição dos dados:"
      ]
    },
    {
      "cell_type": "code",
      "metadata": {
        "colab": {
          "base_uri": "https://localhost:8080/"
        },
        "id": "rd6oBC2IIM34",
        "outputId": "158a64b0-833b-48f6-dbb6-475ba2e46f9e"
      },
      "source": [
        "#Predizendo\n",
        "predictions = clf.predict(x_test)\n",
        "\n",
        "#Printando a diferença entre o dado predito e os dados de teste, caso dê 0 significa que foi correta a predição, caso dê 1 ou -1 significa que foi errada a predição\n",
        "print(predictions-y_test.values)"
      ],
      "execution_count": 426,
      "outputs": [
        {
          "output_type": "stream",
          "name": "stdout",
          "text": [
            "[0 0 0 0 0 0 0 0 0 0 0 0 0 0 0 0 0 0 0 0 0 0 0 0 0 0 0 0 0 0 0 0 0 0 0 0 0\n",
            " 0 0 0 0 0 0 0 0 0 0 0 0 0 0 0 0 0 0 0 0 0 0 0 0 0 0]\n"
          ]
        }
      ]
    },
    {
      "cell_type": "code",
      "metadata": {
        "colab": {
          "base_uri": "https://localhost:8080/"
        },
        "id": "HeUsKGU9b_1t",
        "outputId": "1c30e589-3727-40c4-c4f3-e3dde5db9c27"
      },
      "source": [
        "print(classification_report(y_test, predictions))"
      ],
      "execution_count": 427,
      "outputs": [
        {
          "output_type": "stream",
          "name": "stdout",
          "text": [
            "              precision    recall  f1-score   support\n",
            "\n",
            "           0       1.00      1.00      1.00        26\n",
            "           1       1.00      1.00      1.00        37\n",
            "\n",
            "    accuracy                           1.00        63\n",
            "   macro avg       1.00      1.00      1.00        63\n",
            "weighted avg       1.00      1.00      1.00        63\n",
            "\n"
          ]
        }
      ]
    },
    {
      "cell_type": "markdown",
      "metadata": {
        "id": "aaIlOmzbWto9"
      },
      "source": [
        "Gerando a matriz de confusão: "
      ]
    },
    {
      "cell_type": "code",
      "metadata": {
        "colab": {
          "base_uri": "https://localhost:8080/",
          "height": 295
        },
        "id": "IS1V8ycjWwH_",
        "outputId": "6cf69ae6-ae7e-4022-c48d-4754957d52e3"
      },
      "source": [
        "#gerando matriz e plotando\n",
        "matrix = plot_confusion_matrix(clf, x_test, y_test,\n",
        "                                 cmap=plt.cm.Reds,\n",
        "                                 normalize='true')\n",
        "plt.title('Confusion matrix for our classifier')\n",
        "plt.show(matrix)"
      ],
      "execution_count": 428,
      "outputs": [
        {
          "output_type": "display_data",
          "data": {
            "image/png": "[encoded data removed]",
            "text/plain": [
              "<Figure size 432x288 with 2 Axes>"
            ]
          },
          "metadata": {
            "needs_background": "light"
          }
        }
      ]
    },
    {
      "cell_type": "markdown",
      "metadata": {
        "id": "8d8lI4duTWEC"
      },
      "source": [
        "#Conclusão"
      ]
    },
    {
      "cell_type": "markdown",
      "metadata": {
        "id": "SJBVUFnUtvfh"
      },
      "source": [
        "Em relação ao nosso dataset podemos ver que não encontramos grandes diferenças entre ambos os métodos, mas é possível notar que o SVM se sobressaiu, apesar de ambos apresentarem resultados aceitáveis, mas isso não é regra geral e pode mudar dependendo dos dados trabalhados"
      ]
    }
  ]
}