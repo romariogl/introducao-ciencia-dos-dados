{
  "nbformat": 4,
  "nbformat_minor": 0,
  "metadata": {
    "colab": {
      "name": "CNN  - Romario Gomes.ipynb",
      "provenance": [],
      "collapsed_sections": [
        "EOVpVBEHPiW5",
        "cMkTzApDRQ5D",
        "-tZQx_OPSFrf",
        "EZkkJL3-V1kf",
        "_oAXTiGPda9i"
      ]
    },
    "kernelspec": {
      "name": "python3",
      "display_name": "Python 3"
    },
    "language_info": {
      "name": "python"
    }
  },
  "cells": [
    {
      "cell_type": "markdown",
      "metadata": {
        "id": "eDXF4NB5UQs9"
      },
      "source": [
        "#Atividade CNN\n",
        "Implemente um exemplo de uma rede CNN para classificar imagens.  \n",
        "\n",
        "\n",
        "\n",
        "1.  Calcular a função perda.\n",
        "2.  Inclua a camada \"Softmax\" para mostrar as probabilidades de classificação.\n",
        "3.  Faça a avaliação do modelo traçando o gráfico de Perdas/Acurácia X quantidade de épocas.\n",
        "4.  Inclua uma base de teste para verificar o modelo."
      ]
    },
    {
      "cell_type": "markdown",
      "metadata": {
        "id": "EOVpVBEHPiW5"
      },
      "source": [
        "#Atualizando bibliotecas, importando e lendo dados de treino e teste"
      ]
    },
    {
      "cell_type": "markdown",
      "metadata": {
        "id": "7HBrKHemPtSf"
      },
      "source": [
        "Atualizando tensorflow"
      ]
    },
    {
      "cell_type": "code",
      "metadata": {
        "colab": {
          "base_uri": "https://localhost:8080/"
        },
        "id": "mbk2NPAAPcUi",
        "outputId": "59bc26a1-5c2e-43cf-8a00-949d2b072c60"
      },
      "source": [
        "#Atualizando tensorflow\n",
        "!pip install -U tensorflow"
      ],
      "execution_count": null,
      "outputs": [
        {
          "output_type": "stream",
          "name": "stdout",
          "text": [
            "Requirement already satisfied: tensorflow in /usr/local/lib/python3.7/dist-packages (2.7.0)\n",
            "Requirement already satisfied: wrapt>=1.11.0 in /usr/local/lib/python3.7/dist-packages (from tensorflow) (1.13.3)\n",
            "Requirement already satisfied: protobuf>=3.9.2 in /usr/local/lib/python3.7/dist-packages (from tensorflow) (3.17.3)\n",
            "Requirement already satisfied: wheel<1.0,>=0.32.0 in /usr/local/lib/python3.7/dist-packages (from tensorflow) (0.37.0)\n",
            "Requirement already satisfied: google-pasta>=0.1.1 in /usr/local/lib/python3.7/dist-packages (from tensorflow) (0.2.0)\n",
            "Requirement already satisfied: six>=1.12.0 in /usr/local/lib/python3.7/dist-packages (from tensorflow) (1.15.0)\n",
            "Requirement already satisfied: keras-preprocessing>=1.1.1 in /usr/local/lib/python3.7/dist-packages (from tensorflow) (1.1.2)\n",
            "Requirement already satisfied: numpy>=1.14.5 in /usr/local/lib/python3.7/dist-packages (from tensorflow) (1.19.5)\n",
            "Requirement already satisfied: h5py>=2.9.0 in /usr/local/lib/python3.7/dist-packages (from tensorflow) (3.1.0)\n",
            "Requirement already satisfied: tensorflow-io-gcs-filesystem>=0.21.0 in /usr/local/lib/python3.7/dist-packages (from tensorflow) (0.22.0)\n",
            "Requirement already satisfied: libclang>=9.0.1 in /usr/local/lib/python3.7/dist-packages (from tensorflow) (12.0.0)\n",
            "Requirement already satisfied: termcolor>=1.1.0 in /usr/local/lib/python3.7/dist-packages (from tensorflow) (1.1.0)\n",
            "Requirement already satisfied: astunparse>=1.6.0 in /usr/local/lib/python3.7/dist-packages (from tensorflow) (1.6.3)\n",
            "Requirement already satisfied: gast<0.5.0,>=0.2.1 in /usr/local/lib/python3.7/dist-packages (from tensorflow) (0.4.0)\n",
            "Requirement already satisfied: tensorboard~=2.6 in /usr/local/lib/python3.7/dist-packages (from tensorflow) (2.7.0)\n",
            "Requirement already satisfied: keras<2.8,>=2.7.0rc0 in /usr/local/lib/python3.7/dist-packages (from tensorflow) (2.7.0)\n",
            "Requirement already satisfied: typing-extensions>=3.6.6 in /usr/local/lib/python3.7/dist-packages (from tensorflow) (3.10.0.2)\n",
            "Requirement already satisfied: absl-py>=0.4.0 in /usr/local/lib/python3.7/dist-packages (from tensorflow) (0.12.0)\n",
            "Requirement already satisfied: tensorflow-estimator<2.8,~=2.7.0rc0 in /usr/local/lib/python3.7/dist-packages (from tensorflow) (2.7.0)\n",
            "Requirement already satisfied: grpcio<2.0,>=1.24.3 in /usr/local/lib/python3.7/dist-packages (from tensorflow) (1.42.0)\n",
            "Requirement already satisfied: opt-einsum>=2.3.2 in /usr/local/lib/python3.7/dist-packages (from tensorflow) (3.3.0)\n",
            "Requirement already satisfied: flatbuffers<3.0,>=1.12 in /usr/local/lib/python3.7/dist-packages (from tensorflow) (2.0)\n",
            "Requirement already satisfied: cached-property in /usr/local/lib/python3.7/dist-packages (from h5py>=2.9.0->tensorflow) (1.5.2)\n",
            "Requirement already satisfied: tensorboard-data-server<0.7.0,>=0.6.0 in /usr/local/lib/python3.7/dist-packages (from tensorboard~=2.6->tensorflow) (0.6.1)\n",
            "Requirement already satisfied: tensorboard-plugin-wit>=1.6.0 in /usr/local/lib/python3.7/dist-packages (from tensorboard~=2.6->tensorflow) (1.8.0)\n",
            "Requirement already satisfied: google-auth<3,>=1.6.3 in /usr/local/lib/python3.7/dist-packages (from tensorboard~=2.6->tensorflow) (1.35.0)\n",
            "Requirement already satisfied: markdown>=2.6.8 in /usr/local/lib/python3.7/dist-packages (from tensorboard~=2.6->tensorflow) (3.3.6)\n",
            "Requirement already satisfied: werkzeug>=0.11.15 in /usr/local/lib/python3.7/dist-packages (from tensorboard~=2.6->tensorflow) (1.0.1)\n",
            "Requirement already satisfied: setuptools>=41.0.0 in /usr/local/lib/python3.7/dist-packages (from tensorboard~=2.6->tensorflow) (57.4.0)\n",
            "Requirement already satisfied: requests<3,>=2.21.0 in /usr/local/lib/python3.7/dist-packages (from tensorboard~=2.6->tensorflow) (2.23.0)\n",
            "Requirement already satisfied: google-auth-oauthlib<0.5,>=0.4.1 in /usr/local/lib/python3.7/dist-packages (from tensorboard~=2.6->tensorflow) (0.4.6)\n",
            "Requirement already satisfied: pyasn1-modules>=0.2.1 in /usr/local/lib/python3.7/dist-packages (from google-auth<3,>=1.6.3->tensorboard~=2.6->tensorflow) (0.2.8)\n",
            "Requirement already satisfied: cachetools<5.0,>=2.0.0 in /usr/local/lib/python3.7/dist-packages (from google-auth<3,>=1.6.3->tensorboard~=2.6->tensorflow) (4.2.4)\n",
            "Requirement already satisfied: rsa<5,>=3.1.4 in /usr/local/lib/python3.7/dist-packages (from google-auth<3,>=1.6.3->tensorboard~=2.6->tensorflow) (4.8)\n",
            "Requirement already satisfied: requests-oauthlib>=0.7.0 in /usr/local/lib/python3.7/dist-packages (from google-auth-oauthlib<0.5,>=0.4.1->tensorboard~=2.6->tensorflow) (1.3.0)\n",
            "Requirement already satisfied: importlib-metadata>=4.4 in /usr/local/lib/python3.7/dist-packages (from markdown>=2.6.8->tensorboard~=2.6->tensorflow) (4.8.2)\n",
            "Requirement already satisfied: zipp>=0.5 in /usr/local/lib/python3.7/dist-packages (from importlib-metadata>=4.4->markdown>=2.6.8->tensorboard~=2.6->tensorflow) (3.6.0)\n",
            "Requirement already satisfied: pyasn1<0.5.0,>=0.4.6 in /usr/local/lib/python3.7/dist-packages (from pyasn1-modules>=0.2.1->google-auth<3,>=1.6.3->tensorboard~=2.6->tensorflow) (0.4.8)\n",
            "Requirement already satisfied: chardet<4,>=3.0.2 in /usr/local/lib/python3.7/dist-packages (from requests<3,>=2.21.0->tensorboard~=2.6->tensorflow) (3.0.4)\n",
            "Requirement already satisfied: idna<3,>=2.5 in /usr/local/lib/python3.7/dist-packages (from requests<3,>=2.21.0->tensorboard~=2.6->tensorflow) (2.10)\n",
            "Requirement already satisfied: certifi>=2017.4.17 in /usr/local/lib/python3.7/dist-packages (from requests<3,>=2.21.0->tensorboard~=2.6->tensorflow) (2021.10.8)\n",
            "Requirement already satisfied: urllib3!=1.25.0,!=1.25.1,<1.26,>=1.21.1 in /usr/local/lib/python3.7/dist-packages (from requests<3,>=2.21.0->tensorboard~=2.6->tensorflow) (1.24.3)\n",
            "Requirement already satisfied: oauthlib>=3.0.0 in /usr/local/lib/python3.7/dist-packages (from requests-oauthlib>=0.7.0->google-auth-oauthlib<0.5,>=0.4.1->tensorboard~=2.6->tensorflow) (3.1.1)\n"
          ]
        }
      ]
    },
    {
      "cell_type": "markdown",
      "metadata": {
        "id": "OFxtjbgkPvcU"
      },
      "source": [
        "Lendo bibliotecas"
      ]
    },
    {
      "cell_type": "code",
      "metadata": {
        "id": "gfsfzbFVKvfJ"
      },
      "source": [
        "# TensorFlow e tf.keras\n",
        "import tensorflow as tf\n",
        "from tensorflow import keras\n",
        "\n",
        "# Bibliotecas Auxiliares\n",
        "import numpy as np\n",
        "import matplotlib.pyplot as plt\n",
        "\n",
        "import seaborn as sns\n",
        "from sklearn.metrics import confusion_matrix"
      ],
      "execution_count": null,
      "outputs": []
    },
    {
      "cell_type": "markdown",
      "metadata": {
        "id": "ZWjGL56wQY5I"
      },
      "source": [
        "Lendo imagens de teste e treino:"
      ]
    },
    {
      "cell_type": "code",
      "metadata": {
        "colab": {
          "base_uri": "https://localhost:8080/"
        },
        "id": "LexwzYfyQc7x",
        "outputId": "8518700b-f832-48c3-c537-54b05e9dfd08"
      },
      "source": [
        "#Lendo datasets de exemplo do keras\n",
        "fashion_mnist = keras.datasets.fashion_mnist\n",
        "\n",
        "#Separando as tuplas de dados\n",
        "(train_images, train_labels), (test_images, test_labels) = fashion_mnist.load_data()\n",
        "\n",
        "#Nomes das classes das imagens\n",
        "class_names = ['T-shirt/top', 'Trouser', 'Pullover', 'Dress', 'Coat','Sandal', 'Shirt', 'Sneaker', 'Bag', 'Ankle boot']\n",
        "\n",
        "###Printando dimensões das variáveis\n",
        "#Dados de treino\n",
        "print(train_images.shape, len(train_labels))\n",
        "\n",
        "#Dados de treino de teste\n",
        "print(test_images.shape, len(test_labels))\n",
        "\n",
        "\n"
      ],
      "execution_count": null,
      "outputs": [
        {
          "output_type": "stream",
          "name": "stdout",
          "text": [
            "(60000, 28, 28) 60000\n",
            "(10000, 28, 28) 10000\n"
          ]
        }
      ]
    },
    {
      "cell_type": "markdown",
      "metadata": {
        "id": "cMkTzApDRQ5D"
      },
      "source": [
        "#Pré-processamento das imagens"
      ]
    },
    {
      "cell_type": "code",
      "metadata": {
        "colab": {
          "base_uri": "https://localhost:8080/",
          "height": 265
        },
        "id": "JVcW7fq1RjKd",
        "outputId": "b8b9fb4f-0c81-4cc0-bb03-a5ca56ccb934"
      },
      "source": [
        "plt.figure()\n",
        "plt.imshow(train_images[0])\n",
        "plt.colorbar()\n",
        "plt.grid(False)\n",
        "plt.show()"
      ],
      "execution_count": null,
      "outputs": [
        {
          "output_type": "display_data",
          "data": {
            "image/png": "[encoded data removed]",
            "text/plain": [
              "<Figure size 432x288 with 2 Axes>"
            ]
          },
          "metadata": {
            "needs_background": "light"
          }
        }
      ]
    },
    {
      "cell_type": "markdown",
      "metadata": {
        "id": "aXKAM-_mRdnq"
      },
      "source": [
        "As imagens estão com valores de pixel entre 0-255, portanto é necessário normalizar (entre 0-1)"
      ]
    },
    {
      "cell_type": "code",
      "metadata": {
        "id": "lUahjvaQROtg"
      },
      "source": [
        "#Normalizando\n",
        "train_images = train_images / 255.0\n",
        "test_images = test_images / 255.0"
      ],
      "execution_count": null,
      "outputs": []
    },
    {
      "cell_type": "code",
      "metadata": {
        "colab": {
          "base_uri": "https://localhost:8080/",
          "height": 269
        },
        "id": "snoBCq3PRveZ",
        "outputId": "277338e2-0e35-4089-f53a-4401880357a0"
      },
      "source": [
        "plt.figure()\n",
        "plt.imshow(train_images[0])\n",
        "plt.colorbar()\n",
        "plt.grid(False)\n",
        "plt.show()"
      ],
      "execution_count": null,
      "outputs": [
        {
          "output_type": "display_data",
          "data": {
            "image/png": "[encoded data removed]",
            "text/plain": [
              "<Figure size 432x288 with 2 Axes>"
            ]
          },
          "metadata": {
            "needs_background": "light"
          }
        }
      ]
    },
    {
      "cell_type": "markdown",
      "metadata": {
        "id": "6ZADf0aBR4KN"
      },
      "source": [
        "Agora vamos visualizar as primeiras imagens com suas classes para fazer uma inspeção visual dos dados:"
      ]
    },
    {
      "cell_type": "code",
      "metadata": {
        "colab": {
          "base_uri": "https://localhost:8080/",
          "height": 589
        },
        "id": "yL98-FsaSAev",
        "outputId": "206acf23-5c5a-420c-c2a4-626abfbec28d"
      },
      "source": [
        "plt.figure(figsize=(10,10))\n",
        "for i in range(25):\n",
        "    plt.subplot(5,5,i+1)\n",
        "    plt.xticks([])\n",
        "    plt.yticks([])\n",
        "    plt.grid(False)\n",
        "    plt.imshow(train_images[i], cmap=plt.cm.binary)\n",
        "    plt.xlabel(class_names[train_labels[i]])\n",
        "plt.show()"
      ],
      "execution_count": null,
      "outputs": [
        {
          "output_type": "display_data",
          "data": {
            "image/png": "[encoded data removed]",
            "text/plain": [
              "<Figure size 720x720 with 25 Axes>"
            ]
          },
          "metadata": {}
        }
      ]
    },
    {
      "cell_type": "markdown",
      "metadata": {
        "id": "-tZQx_OPSFrf"
      },
      "source": [
        "#Criando modelo da CNN"
      ]
    },
    {
      "cell_type": "markdown",
      "metadata": {
        "id": "0NMIX64ZTZSE"
      },
      "source": [
        "Primeiro montamos a camada, vamos adicionar a camada \"softmax\" pedida na atividade "
      ]
    },
    {
      "cell_type": "code",
      "metadata": {
        "id": "LbCloAZmTVIY"
      },
      "source": [
        "model = keras.Sequential([\n",
        "    keras.layers.Flatten(input_shape=(28, 28)),\n",
        "    keras.layers.Dense(128, activation='relu'),\n",
        "    keras.layers.Dense(10, activation='softmax')\n",
        "])"
      ],
      "execution_count": null,
      "outputs": []
    },
    {
      "cell_type": "markdown",
      "metadata": {
        "id": "um3zsFyCTkS1"
      },
      "source": [
        "Agora é necessário configurar opções adicionais ao nosso modelo, isso é feito na etapa de compilação, onde também é decidido a função de perda pedido na atividade"
      ]
    },
    {
      "cell_type": "code",
      "metadata": {
        "id": "gBJ6o5M_Tg4Z"
      },
      "source": [
        "model.compile(optimizer='adam',\n",
        "              loss='sparse_categorical_crossentropy',\n",
        "              metrics=['accuracy'])"
      ],
      "execution_count": null,
      "outputs": []
    },
    {
      "cell_type": "markdown",
      "metadata": {
        "id": "EZkkJL3-V1kf"
      },
      "source": [
        "#Gráfico de Acurácia x Quantidade de épocas"
      ]
    },
    {
      "cell_type": "code",
      "metadata": {
        "colab": {
          "base_uri": "https://localhost:8080/"
        },
        "id": "omWkJ1mBX_Ip",
        "outputId": "28cc12a6-f5d3-43e8-ec37-b7d69ed57101"
      },
      "source": [
        "#função para o gráfico de acurácia\n",
        "def accuracy(n_epochs):\n",
        "  test_score = []\n",
        "\n",
        "  for i in n_epochs:\n",
        "    model.fit(train_images, train_labels, epochs=i)\n",
        "    test_loss, test_acc = model.evaluate(test_images,  test_labels, verbose=2)\n",
        "    test_score.append(test_acc)\n",
        "\n",
        "  return test_score\n",
        "\n",
        "#gerando gráfico utilizando de n_epochs=5 até n_epochs=20\n",
        "n_epochs = range(7, 20)\n",
        "acc = accuracy(n_epochs)"
      ],
      "execution_count": null,
      "outputs": [
        {
          "output_type": "stream",
          "name": "stdout",
          "text": [
            "Epoch 1/7\n",
            "1875/1875 [==============================] - 5s 2ms/step - loss: 0.4966 - accuracy: 0.8257\n",
            "Epoch 2/7\n",
            "1875/1875 [==============================] - 4s 2ms/step - loss: 0.3762 - accuracy: 0.8649\n",
            "Epoch 3/7\n",
            "1875/1875 [==============================] - 4s 2ms/step - loss: 0.3364 - accuracy: 0.8772\n",
            "Epoch 4/7\n",
            "1875/1875 [==============================] - 4s 2ms/step - loss: 0.3114 - accuracy: 0.8848\n",
            "Epoch 5/7\n",
            "1875/1875 [==============================] - 4s 2ms/step - loss: 0.2943 - accuracy: 0.8911\n",
            "Epoch 6/7\n",
            "1875/1875 [==============================] - 4s 2ms/step - loss: 0.2800 - accuracy: 0.8953\n",
            "Epoch 7/7\n",
            "1875/1875 [==============================] - 4s 2ms/step - loss: 0.2686 - accuracy: 0.9005\n",
            "313/313 - 0s - loss: 0.3431 - accuracy: 0.8782 - 484ms/epoch - 2ms/step\n",
            "Epoch 1/8\n",
            "1875/1875 [==============================] - 4s 2ms/step - loss: 0.2573 - accuracy: 0.9042\n",
            "Epoch 2/8\n",
            "1875/1875 [==============================] - 4s 2ms/step - loss: 0.2469 - accuracy: 0.9077\n",
            "Epoch 3/8\n",
            "1875/1875 [==============================] - 4s 2ms/step - loss: 0.2401 - accuracy: 0.9102\n",
            "Epoch 4/8\n",
            "1875/1875 [==============================] - 4s 2ms/step - loss: 0.2314 - accuracy: 0.9134\n",
            "Epoch 5/8\n",
            "1875/1875 [==============================] - 4s 2ms/step - loss: 0.2226 - accuracy: 0.9160\n",
            "Epoch 6/8\n",
            "1875/1875 [==============================] - 4s 2ms/step - loss: 0.2169 - accuracy: 0.9180\n",
            "Epoch 7/8\n",
            "1875/1875 [==============================] - 4s 2ms/step - loss: 0.2094 - accuracy: 0.9211\n",
            "Epoch 8/8\n",
            "1875/1875 [==============================] - 4s 2ms/step - loss: 0.2067 - accuracy: 0.9205\n",
            "313/313 - 0s - loss: 0.3441 - accuracy: 0.8844 - 399ms/epoch - 1ms/step\n",
            "Epoch 1/9\n",
            "1875/1875 [==============================] - 4s 2ms/step - loss: 0.1998 - accuracy: 0.9245\n",
            "Epoch 2/9\n",
            "1875/1875 [==============================] - 4s 2ms/step - loss: 0.1935 - accuracy: 0.9269\n",
            "Epoch 3/9\n",
            "1875/1875 [==============================] - 4s 2ms/step - loss: 0.1879 - accuracy: 0.9286\n",
            "Epoch 4/9\n",
            "1875/1875 [==============================] - 4s 2ms/step - loss: 0.1827 - accuracy: 0.9306\n",
            "Epoch 5/9\n",
            "1875/1875 [==============================] - 4s 2ms/step - loss: 0.1798 - accuracy: 0.9326\n",
            "Epoch 6/9\n",
            "1875/1875 [==============================] - 4s 2ms/step - loss: 0.1746 - accuracy: 0.9343\n",
            "Epoch 7/9\n",
            "1875/1875 [==============================] - 4s 2ms/step - loss: 0.1689 - accuracy: 0.9353\n",
            "Epoch 8/9\n",
            "1875/1875 [==============================] - 4s 2ms/step - loss: 0.1662 - accuracy: 0.9370\n",
            "Epoch 9/9\n",
            "1875/1875 [==============================] - 4s 2ms/step - loss: 0.1614 - accuracy: 0.9391\n",
            "313/313 - 0s - loss: 0.3849 - accuracy: 0.8823 - 389ms/epoch - 1ms/step\n",
            "Epoch 1/10\n",
            "1875/1875 [==============================] - 4s 2ms/step - loss: 0.1611 - accuracy: 0.9385\n",
            "Epoch 2/10\n",
            "1875/1875 [==============================] - 4s 2ms/step - loss: 0.1524 - accuracy: 0.9429\n",
            "Epoch 3/10\n",
            "1875/1875 [==============================] - 4s 2ms/step - loss: 0.1521 - accuracy: 0.9432\n",
            "Epoch 4/10\n",
            "1875/1875 [==============================] - 4s 2ms/step - loss: 0.1472 - accuracy: 0.9447\n",
            "Epoch 5/10\n",
            "1875/1875 [==============================] - 4s 2ms/step - loss: 0.1448 - accuracy: 0.9451\n",
            "Epoch 6/10\n",
            "1875/1875 [==============================] - 4s 2ms/step - loss: 0.1406 - accuracy: 0.9478\n",
            "Epoch 7/10\n",
            "1875/1875 [==============================] - 4s 2ms/step - loss: 0.1375 - accuracy: 0.9485\n",
            "Epoch 8/10\n",
            "1875/1875 [==============================] - 4s 2ms/step - loss: 0.1355 - accuracy: 0.9495\n",
            "Epoch 9/10\n",
            "1875/1875 [==============================] - 4s 2ms/step - loss: 0.1314 - accuracy: 0.9511\n",
            "Epoch 10/10\n",
            "1875/1875 [==============================] - 4s 2ms/step - loss: 0.1279 - accuracy: 0.9518\n",
            "313/313 - 0s - loss: 0.3926 - accuracy: 0.8896 - 397ms/epoch - 1ms/step\n",
            "Epoch 1/11\n",
            "1875/1875 [==============================] - 5s 2ms/step - loss: 0.1278 - accuracy: 0.9520\n",
            "Epoch 2/11\n",
            "1875/1875 [==============================] - 4s 2ms/step - loss: 0.1261 - accuracy: 0.9532\n",
            "Epoch 3/11\n",
            "1875/1875 [==============================] - 4s 2ms/step - loss: 0.1214 - accuracy: 0.9538\n",
            "Epoch 4/11\n",
            "1875/1875 [==============================] - 4s 2ms/step - loss: 0.1202 - accuracy: 0.9548\n",
            "Epoch 5/11\n",
            "1875/1875 [==============================] - 4s 2ms/step - loss: 0.1169 - accuracy: 0.9555\n",
            "Epoch 6/11\n",
            "1875/1875 [==============================] - 4s 2ms/step - loss: 0.1181 - accuracy: 0.9556\n",
            "Epoch 7/11\n",
            "1875/1875 [==============================] - 4s 2ms/step - loss: 0.1097 - accuracy: 0.9577\n",
            "Epoch 8/11\n",
            "1875/1875 [==============================] - 4s 2ms/step - loss: 0.1107 - accuracy: 0.9592\n",
            "Epoch 9/11\n",
            "1875/1875 [==============================] - 4s 2ms/step - loss: 0.1079 - accuracy: 0.9594\n",
            "Epoch 10/11\n",
            "1875/1875 [==============================] - 4s 2ms/step - loss: 0.1073 - accuracy: 0.9595\n",
            "Epoch 11/11\n",
            "1875/1875 [==============================] - 4s 2ms/step - loss: 0.1064 - accuracy: 0.9598\n",
            "313/313 - 0s - loss: 0.4822 - accuracy: 0.8855 - 388ms/epoch - 1ms/step\n",
            "Epoch 1/12\n",
            "1875/1875 [==============================] - 4s 2ms/step - loss: 0.1000 - accuracy: 0.9626\n",
            "Epoch 2/12\n",
            "1875/1875 [==============================] - 4s 2ms/step - loss: 0.1026 - accuracy: 0.9608\n",
            "Epoch 3/12\n",
            "1875/1875 [==============================] - 4s 2ms/step - loss: 0.0979 - accuracy: 0.9627\n",
            "Epoch 4/12\n",
            "1875/1875 [==============================] - 4s 2ms/step - loss: 0.0989 - accuracy: 0.9622\n",
            "Epoch 5/12\n",
            "1875/1875 [==============================] - 4s 2ms/step - loss: 0.0948 - accuracy: 0.9639\n",
            "Epoch 6/12\n",
            "1875/1875 [==============================] - 4s 2ms/step - loss: 0.0961 - accuracy: 0.9641\n",
            "Epoch 7/12\n",
            "1875/1875 [==============================] - 4s 2ms/step - loss: 0.0934 - accuracy: 0.9653\n",
            "Epoch 8/12\n",
            "1875/1875 [==============================] - 4s 2ms/step - loss: 0.0921 - accuracy: 0.9651\n",
            "Epoch 9/12\n",
            "1875/1875 [==============================] - 4s 2ms/step - loss: 0.0926 - accuracy: 0.9653\n",
            "Epoch 10/12\n",
            "1875/1875 [==============================] - 4s 2ms/step - loss: 0.0866 - accuracy: 0.9672\n",
            "Epoch 11/12\n",
            "1875/1875 [==============================] - 4s 2ms/step - loss: 0.0873 - accuracy: 0.9670\n",
            "Epoch 12/12\n",
            "1875/1875 [==============================] - 4s 2ms/step - loss: 0.0869 - accuracy: 0.9674\n",
            "313/313 - 0s - loss: 0.5378 - accuracy: 0.8903 - 380ms/epoch - 1ms/step\n",
            "Epoch 1/13\n",
            "1875/1875 [==============================] - 4s 2ms/step - loss: 0.0852 - accuracy: 0.9677\n",
            "Epoch 2/13\n",
            "1875/1875 [==============================] - 4s 2ms/step - loss: 0.0825 - accuracy: 0.9691\n",
            "Epoch 3/13\n",
            "1875/1875 [==============================] - 4s 2ms/step - loss: 0.0809 - accuracy: 0.9691\n",
            "Epoch 4/13\n",
            "1875/1875 [==============================] - 4s 2ms/step - loss: 0.0802 - accuracy: 0.9704\n",
            "Epoch 5/13\n",
            "1875/1875 [==============================] - 4s 2ms/step - loss: 0.0805 - accuracy: 0.9693\n",
            "Epoch 6/13\n",
            "1875/1875 [==============================] - 4s 2ms/step - loss: 0.0796 - accuracy: 0.9707\n",
            "Epoch 7/13\n",
            "1875/1875 [==============================] - 4s 2ms/step - loss: 0.0775 - accuracy: 0.9711\n",
            "Epoch 8/13\n",
            "1875/1875 [==============================] - 4s 2ms/step - loss: 0.0769 - accuracy: 0.9708\n",
            "Epoch 9/13\n",
            "1875/1875 [==============================] - 4s 2ms/step - loss: 0.0767 - accuracy: 0.9713\n",
            "Epoch 10/13\n",
            "1875/1875 [==============================] - 4s 2ms/step - loss: 0.0749 - accuracy: 0.9714\n",
            "Epoch 11/13\n",
            "1875/1875 [==============================] - 4s 2ms/step - loss: 0.0726 - accuracy: 0.9724\n",
            "Epoch 12/13\n",
            "1875/1875 [==============================] - 4s 2ms/step - loss: 0.0725 - accuracy: 0.9722\n",
            "Epoch 13/13\n",
            "1875/1875 [==============================] - 4s 2ms/step - loss: 0.0726 - accuracy: 0.9729\n",
            "313/313 - 0s - loss: 0.5964 - accuracy: 0.8934 - 390ms/epoch - 1ms/step\n",
            "Epoch 1/14\n",
            "1875/1875 [==============================] - 4s 2ms/step - loss: 0.0718 - accuracy: 0.9731\n",
            "Epoch 2/14\n",
            "1875/1875 [==============================] - 4s 2ms/step - loss: 0.0678 - accuracy: 0.9742\n",
            "Epoch 3/14\n",
            "1875/1875 [==============================] - 4s 2ms/step - loss: 0.0689 - accuracy: 0.9737\n",
            "Epoch 4/14\n",
            "1875/1875 [==============================] - 4s 2ms/step - loss: 0.0704 - accuracy: 0.9739\n",
            "Epoch 5/14\n",
            "1875/1875 [==============================] - 4s 2ms/step - loss: 0.0658 - accuracy: 0.9755\n",
            "Epoch 6/14\n",
            "1875/1875 [==============================] - 4s 2ms/step - loss: 0.0654 - accuracy: 0.9757\n",
            "Epoch 7/14\n",
            "1875/1875 [==============================] - 4s 2ms/step - loss: 0.0678 - accuracy: 0.9749\n",
            "Epoch 8/14\n",
            "1875/1875 [==============================] - 4s 2ms/step - loss: 0.0622 - accuracy: 0.9761\n",
            "Epoch 9/14\n",
            "1875/1875 [==============================] - 4s 2ms/step - loss: 0.0641 - accuracy: 0.9766\n",
            "Epoch 10/14\n",
            "1875/1875 [==============================] - 4s 2ms/step - loss: 0.0622 - accuracy: 0.9767\n",
            "Epoch 11/14\n",
            "1875/1875 [==============================] - 4s 2ms/step - loss: 0.0624 - accuracy: 0.9768\n",
            "Epoch 12/14\n",
            "1875/1875 [==============================] - 4s 2ms/step - loss: 0.0605 - accuracy: 0.9770\n",
            "Epoch 13/14\n",
            "1875/1875 [==============================] - 5s 2ms/step - loss: 0.0606 - accuracy: 0.9774\n",
            "Epoch 14/14\n",
            "1875/1875 [==============================] - 4s 2ms/step - loss: 0.0612 - accuracy: 0.9774\n",
            "313/313 - 0s - loss: 0.6988 - accuracy: 0.8886 - 385ms/epoch - 1ms/step\n",
            "Epoch 1/15\n",
            "1875/1875 [==============================] - 4s 2ms/step - loss: 0.0586 - accuracy: 0.9783\n",
            "Epoch 2/15\n",
            "1875/1875 [==============================] - 4s 2ms/step - loss: 0.0563 - accuracy: 0.9785\n",
            "Epoch 3/15\n",
            "1875/1875 [==============================] - 4s 2ms/step - loss: 0.0578 - accuracy: 0.9784\n",
            "Epoch 4/15\n",
            "1875/1875 [==============================] - 4s 2ms/step - loss: 0.0620 - accuracy: 0.9778\n",
            "Epoch 5/15\n",
            "1875/1875 [==============================] - 4s 2ms/step - loss: 0.0560 - accuracy: 0.9791\n",
            "Epoch 6/15\n",
            "1875/1875 [==============================] - 4s 2ms/step - loss: 0.0555 - accuracy: 0.9792\n",
            "Epoch 7/15\n",
            "1875/1875 [==============================] - 4s 2ms/step - loss: 0.0557 - accuracy: 0.9792\n",
            "Epoch 8/15\n",
            "1875/1875 [==============================] - 4s 2ms/step - loss: 0.0578 - accuracy: 0.9785\n",
            "Epoch 9/15\n",
            "1875/1875 [==============================] - 5s 2ms/step - loss: 0.0531 - accuracy: 0.9804\n",
            "Epoch 10/15\n",
            "1875/1875 [==============================] - 5s 2ms/step - loss: 0.0526 - accuracy: 0.9806\n",
            "Epoch 11/15\n",
            "1875/1875 [==============================] - 4s 2ms/step - loss: 0.0544 - accuracy: 0.9798\n",
            "Epoch 12/15\n",
            "1875/1875 [==============================] - 5s 2ms/step - loss: 0.0558 - accuracy: 0.9794\n",
            "Epoch 13/15\n",
            "1875/1875 [==============================] - 5s 2ms/step - loss: 0.0506 - accuracy: 0.9817\n",
            "Epoch 14/15\n",
            "1875/1875 [==============================] - 4s 2ms/step - loss: 0.0518 - accuracy: 0.9809\n",
            "Epoch 15/15\n",
            "1875/1875 [==============================] - 4s 2ms/step - loss: 0.0495 - accuracy: 0.9816\n",
            "313/313 - 0s - loss: 0.7965 - accuracy: 0.8835 - 401ms/epoch - 1ms/step\n",
            "Epoch 1/16\n",
            "1875/1875 [==============================] - 4s 2ms/step - loss: 0.0507 - accuracy: 0.9804\n",
            "Epoch 2/16\n",
            "1875/1875 [==============================] - 5s 2ms/step - loss: 0.0490 - accuracy: 0.9811\n",
            "Epoch 3/16\n",
            "1875/1875 [==============================] - 4s 2ms/step - loss: 0.0491 - accuracy: 0.9815\n",
            "Epoch 4/16\n",
            "1875/1875 [==============================] - 4s 2ms/step - loss: 0.0481 - accuracy: 0.9822\n",
            "Epoch 5/16\n",
            "1875/1875 [==============================] - 4s 2ms/step - loss: 0.0481 - accuracy: 0.9822\n",
            "Epoch 6/16\n",
            "1875/1875 [==============================] - 4s 2ms/step - loss: 0.0491 - accuracy: 0.9822\n",
            "Epoch 7/16\n",
            "1875/1875 [==============================] - 5s 2ms/step - loss: 0.0483 - accuracy: 0.9822\n",
            "Epoch 8/16\n",
            "1875/1875 [==============================] - 5s 2ms/step - loss: 0.0480 - accuracy: 0.9826\n",
            "Epoch 9/16\n",
            "1875/1875 [==============================] - 4s 2ms/step - loss: 0.0469 - accuracy: 0.9829\n",
            "Epoch 10/16\n",
            "1875/1875 [==============================] - 5s 2ms/step - loss: 0.0458 - accuracy: 0.9830\n",
            "Epoch 11/16\n",
            "1875/1875 [==============================] - 5s 2ms/step - loss: 0.0452 - accuracy: 0.9831\n",
            "Epoch 12/16\n",
            "1875/1875 [==============================] - 4s 2ms/step - loss: 0.0463 - accuracy: 0.9830\n",
            "Epoch 13/16\n",
            "1875/1875 [==============================] - 5s 2ms/step - loss: 0.0433 - accuracy: 0.9835\n",
            "Epoch 14/16\n",
            "1875/1875 [==============================] - 5s 2ms/step - loss: 0.0458 - accuracy: 0.9834\n",
            "Epoch 15/16\n",
            "1875/1875 [==============================] - 5s 2ms/step - loss: 0.0449 - accuracy: 0.9837\n",
            "Epoch 16/16\n",
            "1875/1875 [==============================] - 5s 2ms/step - loss: 0.0436 - accuracy: 0.9842\n",
            "313/313 - 0s - loss: 0.8985 - accuracy: 0.8863 - 385ms/epoch - 1ms/step\n",
            "Epoch 1/17\n",
            "1875/1875 [==============================] - 5s 2ms/step - loss: 0.0464 - accuracy: 0.9827\n",
            "Epoch 2/17\n",
            "1875/1875 [==============================] - 5s 2ms/step - loss: 0.0405 - accuracy: 0.9850\n",
            "Epoch 3/17\n",
            "1875/1875 [==============================] - 5s 2ms/step - loss: 0.0439 - accuracy: 0.9836\n",
            "Epoch 4/17\n",
            "1875/1875 [==============================] - 4s 2ms/step - loss: 0.0414 - accuracy: 0.9850\n",
            "Epoch 5/17\n",
            "1875/1875 [==============================] - 5s 2ms/step - loss: 0.0412 - accuracy: 0.9843\n",
            "Epoch 6/17\n",
            "1875/1875 [==============================] - 5s 2ms/step - loss: 0.0422 - accuracy: 0.9841\n",
            "Epoch 7/17\n",
            "1875/1875 [==============================] - 5s 2ms/step - loss: 0.0447 - accuracy: 0.9834\n",
            "Epoch 8/17\n",
            "1875/1875 [==============================] - 5s 2ms/step - loss: 0.0406 - accuracy: 0.9850\n",
            "Epoch 9/17\n",
            "1875/1875 [==============================] - 5s 3ms/step - loss: 0.0409 - accuracy: 0.9853\n",
            "Epoch 10/17\n",
            "1875/1875 [==============================] - 4s 2ms/step - loss: 0.0412 - accuracy: 0.9845\n",
            "Epoch 11/17\n",
            "1875/1875 [==============================] - 4s 2ms/step - loss: 0.0387 - accuracy: 0.9861\n",
            "Epoch 12/17\n",
            "1875/1875 [==============================] - 4s 2ms/step - loss: 0.0404 - accuracy: 0.9852\n",
            "Epoch 13/17\n",
            "1875/1875 [==============================] - 4s 2ms/step - loss: 0.0396 - accuracy: 0.9855\n",
            "Epoch 14/17\n",
            "1875/1875 [==============================] - 4s 2ms/step - loss: 0.0381 - accuracy: 0.9855\n",
            "Epoch 15/17\n",
            "1875/1875 [==============================] - 5s 2ms/step - loss: 0.0410 - accuracy: 0.9852\n",
            "Epoch 16/17\n",
            "1875/1875 [==============================] - 4s 2ms/step - loss: 0.0376 - accuracy: 0.9863\n",
            "Epoch 17/17\n",
            "1875/1875 [==============================] - 5s 2ms/step - loss: 0.0406 - accuracy: 0.9850\n",
            "313/313 - 0s - loss: 0.9319 - accuracy: 0.8866 - 371ms/epoch - 1ms/step\n",
            "Epoch 1/18\n",
            "1875/1875 [==============================] - 4s 2ms/step - loss: 0.0360 - accuracy: 0.9869\n",
            "Epoch 2/18\n",
            "1875/1875 [==============================] - 5s 2ms/step - loss: 0.0403 - accuracy: 0.9853\n",
            "Epoch 3/18\n",
            "1875/1875 [==============================] - 5s 2ms/step - loss: 0.0406 - accuracy: 0.9858\n",
            "Epoch 4/18\n",
            "1875/1875 [==============================] - 5s 2ms/step - loss: 0.0341 - accuracy: 0.9874\n",
            "Epoch 5/18\n",
            "1875/1875 [==============================] - 5s 2ms/step - loss: 0.0376 - accuracy: 0.9868\n",
            "Epoch 6/18\n",
            "1875/1875 [==============================] - 5s 2ms/step - loss: 0.0369 - accuracy: 0.9867\n",
            "Epoch 7/18\n",
            "1875/1875 [==============================] - 4s 2ms/step - loss: 0.0342 - accuracy: 0.9879\n",
            "Epoch 8/18\n",
            "1875/1875 [==============================] - 4s 2ms/step - loss: 0.0364 - accuracy: 0.9868\n",
            "Epoch 9/18\n",
            "1875/1875 [==============================] - 4s 2ms/step - loss: 0.0382 - accuracy: 0.9855\n",
            "Epoch 10/18\n",
            "1875/1875 [==============================] - 4s 2ms/step - loss: 0.0367 - accuracy: 0.9869\n",
            "Epoch 11/18\n",
            "1875/1875 [==============================] - 4s 2ms/step - loss: 0.0346 - accuracy: 0.9878\n",
            "Epoch 12/18\n",
            "1875/1875 [==============================] - 4s 2ms/step - loss: 0.0387 - accuracy: 0.9859\n",
            "Epoch 13/18\n",
            "1875/1875 [==============================] - 5s 2ms/step - loss: 0.0320 - accuracy: 0.9884\n",
            "Epoch 14/18\n",
            "1875/1875 [==============================] - 5s 2ms/step - loss: 0.0356 - accuracy: 0.9872\n",
            "Epoch 15/18\n",
            "1875/1875 [==============================] - 5s 2ms/step - loss: 0.0344 - accuracy: 0.9872\n",
            "Epoch 16/18\n",
            "1875/1875 [==============================] - 5s 2ms/step - loss: 0.0349 - accuracy: 0.9873\n",
            "Epoch 17/18\n",
            "1875/1875 [==============================] - 5s 2ms/step - loss: 0.0360 - accuracy: 0.9870\n",
            "Epoch 18/18\n",
            "1875/1875 [==============================] - 5s 2ms/step - loss: 0.0333 - accuracy: 0.9884\n",
            "313/313 - 0s - loss: 1.0685 - accuracy: 0.8830 - 382ms/epoch - 1ms/step\n",
            "Epoch 1/19\n",
            "1875/1875 [==============================] - 5s 2ms/step - loss: 0.0338 - accuracy: 0.9880\n",
            "Epoch 2/19\n",
            "1875/1875 [==============================] - 5s 2ms/step - loss: 0.0307 - accuracy: 0.9887\n",
            "Epoch 3/19\n",
            "1875/1875 [==============================] - 5s 2ms/step - loss: 0.0362 - accuracy: 0.9867\n",
            "Epoch 4/19\n",
            "1875/1875 [==============================] - 5s 2ms/step - loss: 0.0304 - accuracy: 0.9896\n",
            "Epoch 5/19\n",
            "1875/1875 [==============================] - 5s 2ms/step - loss: 0.0332 - accuracy: 0.9879\n",
            "Epoch 6/19\n",
            "1875/1875 [==============================] - 5s 2ms/step - loss: 0.0301 - accuracy: 0.9894\n",
            "Epoch 7/19\n",
            "1875/1875 [==============================] - 5s 2ms/step - loss: 0.0332 - accuracy: 0.9878\n",
            "Epoch 8/19\n",
            "1875/1875 [==============================] - 5s 2ms/step - loss: 0.0302 - accuracy: 0.9894\n",
            "Epoch 9/19\n",
            "1875/1875 [==============================] - 5s 2ms/step - loss: 0.0306 - accuracy: 0.9885\n",
            "Epoch 10/19\n",
            "1875/1875 [==============================] - 5s 2ms/step - loss: 0.0338 - accuracy: 0.9885\n",
            "Epoch 11/19\n",
            "1875/1875 [==============================] - 5s 3ms/step - loss: 0.0289 - accuracy: 0.9896\n",
            "Epoch 12/19\n",
            "1875/1875 [==============================] - 5s 3ms/step - loss: 0.0350 - accuracy: 0.9868\n",
            "Epoch 13/19\n",
            "1875/1875 [==============================] - 5s 3ms/step - loss: 0.0299 - accuracy: 0.9890\n",
            "Epoch 14/19\n",
            "1875/1875 [==============================] - 5s 3ms/step - loss: 0.0329 - accuracy: 0.9881\n",
            "Epoch 15/19\n",
            "1875/1875 [==============================] - 5s 2ms/step - loss: 0.0306 - accuracy: 0.9889\n",
            "Epoch 16/19\n",
            "1875/1875 [==============================] - 5s 2ms/step - loss: 0.0312 - accuracy: 0.9887\n",
            "Epoch 17/19\n",
            "1875/1875 [==============================] - 5s 2ms/step - loss: 0.0270 - accuracy: 0.9903\n",
            "Epoch 18/19\n",
            "1875/1875 [==============================] - 5s 3ms/step - loss: 0.0330 - accuracy: 0.9884\n",
            "Epoch 19/19\n",
            "1875/1875 [==============================] - 5s 2ms/step - loss: 0.0249 - accuracy: 0.9906\n",
            "313/313 - 0s - loss: 1.1375 - accuracy: 0.8864 - 394ms/epoch - 1ms/step\n"
          ]
        }
      ]
    },
    {
      "cell_type": "code",
      "metadata": {
        "colab": {
          "base_uri": "https://localhost:8080/",
          "height": 299
        },
        "id": "mlT1v7B4cIn4",
        "outputId": "e2c2624e-69ca-454f-b2c7-c2a82a4cd4de"
      },
      "source": [
        "#Plotando gráfico\n",
        "plt.plot(n_epochs,acc)\n",
        "plt.xlabel(\"Quantidade de épocas\")\n",
        "plt.ylabel(\"Acurácia\")"
      ],
      "execution_count": null,
      "outputs": [
        {
          "output_type": "execute_result",
          "data": {
            "text/plain": [
              "Text(0, 0.5, 'Acurácia')"
            ]
          },
          "metadata": {},
          "execution_count": 75
        },
        {
          "output_type": "display_data",
          "data": {
            "image/png": "[encoded data removed]",
            "text/plain": [
              "<Figure size 432x288 with 1 Axes>"
            ]
          },
          "metadata": {
            "needs_background": "light"
          }
        }
      ]
    },
    {
      "cell_type": "code",
      "metadata": {
        "colab": {
          "base_uri": "https://localhost:8080/"
        },
        "id": "jFwcX_2scUZD",
        "outputId": "7c236750-2ea2-4dc0-b1fb-d23e0f4fff3c"
      },
      "source": [
        "#Escolhendo a melhor quantidade de épocas\n",
        "max = np.max(acc)\n",
        "\n",
        "\n",
        "for item in acc:\n",
        "  if item==max:\n",
        "    n_epochsOtimo = n_epochs[acc.index(item)]\n",
        "\n",
        "print(\"Quantidade ótima de épocas: \", n_epochsOtimo)"
      ],
      "execution_count": null,
      "outputs": [
        {
          "output_type": "stream",
          "name": "stdout",
          "text": [
            "Quantidade ótima de épocas:  13\n"
          ]
        }
      ]
    },
    {
      "cell_type": "markdown",
      "metadata": {
        "id": "_oAXTiGPda9i"
      },
      "source": [
        "#Fazendo predições, gerando matriz de confusão"
      ]
    },
    {
      "cell_type": "markdown",
      "metadata": {
        "id": "Yxn92VnYd7F5"
      },
      "source": [
        "Utilizando a quantidade de épocas encontrada anteriormente, vamos fazer o fit do modelo"
      ]
    },
    {
      "cell_type": "code",
      "metadata": {
        "colab": {
          "base_uri": "https://localhost:8080/"
        },
        "id": "dFPsNkrIdaQy",
        "outputId": "8359e76a-7aa8-4f60-def1-6efa87548a5e"
      },
      "source": [
        "model.fit(train_images, train_labels, epochs=n_epochsOtimo)\n",
        "test_loss, test_acc = model.evaluate(test_images,  test_labels, verbose=2)\n",
        "print(\"Acurácia do modelo: \", test_acc)"
      ],
      "execution_count": null,
      "outputs": [
        {
          "output_type": "stream",
          "name": "stdout",
          "text": [
            "Epoch 1/13\n",
            "1875/1875 [==============================] - 5s 2ms/step - loss: 0.0324 - accuracy: 0.9878\n",
            "Epoch 2/13\n",
            "1875/1875 [==============================] - 5s 2ms/step - loss: 0.0290 - accuracy: 0.9898\n",
            "Epoch 3/13\n",
            "1875/1875 [==============================] - 4s 2ms/step - loss: 0.0257 - accuracy: 0.9907\n",
            "Epoch 4/13\n",
            "1875/1875 [==============================] - 4s 2ms/step - loss: 0.0308 - accuracy: 0.9891\n",
            "Epoch 5/13\n",
            "1875/1875 [==============================] - 4s 2ms/step - loss: 0.0287 - accuracy: 0.9900\n",
            "Epoch 6/13\n",
            "1875/1875 [==============================] - 4s 2ms/step - loss: 0.0269 - accuracy: 0.9903\n",
            "Epoch 7/13\n",
            "1875/1875 [==============================] - 4s 2ms/step - loss: 0.0290 - accuracy: 0.9896\n",
            "Epoch 8/13\n",
            "1875/1875 [==============================] - 4s 2ms/step - loss: 0.0278 - accuracy: 0.9903\n",
            "Epoch 9/13\n",
            "1875/1875 [==============================] - 4s 2ms/step - loss: 0.0296 - accuracy: 0.9894\n",
            "Epoch 10/13\n",
            "1875/1875 [==============================] - 4s 2ms/step - loss: 0.0295 - accuracy: 0.9891\n",
            "Epoch 11/13\n",
            "1875/1875 [==============================] - 4s 2ms/step - loss: 0.0281 - accuracy: 0.9901\n",
            "Epoch 12/13\n",
            "1875/1875 [==============================] - 4s 2ms/step - loss: 0.0277 - accuracy: 0.9902\n",
            "Epoch 13/13\n",
            "1875/1875 [==============================] - 4s 2ms/step - loss: 0.0288 - accuracy: 0.9896\n",
            "313/313 - 0s - loss: 1.1269 - accuracy: 0.8903 - 367ms/epoch - 1ms/step\n",
            "Acurácia do modelo:  0.8902999758720398\n"
          ]
        }
      ]
    },
    {
      "cell_type": "markdown",
      "metadata": {
        "id": "pbLPaNN1eK-J"
      },
      "source": [
        "Fazendo predições"
      ]
    },
    {
      "cell_type": "code",
      "metadata": {
        "colab": {
          "base_uri": "https://localhost:8080/"
        },
        "id": "UMe3JQg1eKfB",
        "outputId": "c630a6ac-d136-4e87-e00b-cf33da6a6991"
      },
      "source": [
        "#Fazendo a predição\n",
        "predictions = model.predict(test_images)\n",
        "print(predictions[0])\n",
        "#É gerado uma lista com níveis de confiança para cada classe, vamos utilizar o maior nível como a classe prevista\n",
        "predictions = np.argmax(predictions, axis=1)\n",
        "print(predictions[0])"
      ],
      "execution_count": null,
      "outputs": [
        {
          "output_type": "stream",
          "name": "stdout",
          "text": [
            "[0.0000000e+00 5.6207844e-37 0.0000000e+00 0.0000000e+00 0.0000000e+00\n",
            " 6.9534415e-28 0.0000000e+00 1.9819083e-13 0.0000000e+00 1.0000000e+00]\n",
            "9\n"
          ]
        }
      ]
    },
    {
      "cell_type": "markdown",
      "metadata": {
        "id": "cEU5Vb7tfL5X"
      },
      "source": [
        "Gerando a matriz de confusão"
      ]
    },
    {
      "cell_type": "code",
      "metadata": {
        "colab": {
          "base_uri": "https://localhost:8080/",
          "height": 295
        },
        "id": "cwpix31WfiF6",
        "outputId": "2c37274a-bb46-43c2-99fe-e3c74cca2dbb"
      },
      "source": [
        "#matriz de confusão\n",
        "cm = confusion_matrix(test_labels, predictions)\n",
        "\n",
        "#matriz de confusão normalizada\n",
        "cmn = (cm.T / cm.astype(np.float).sum(axis=1)).T\n",
        "\n",
        "ax= plt.subplot()\n",
        "sns.heatmap(cmn, annot=True, ax = ax); #annot=True to annotate cells\n",
        "\n",
        "# labels, title and ticks\n",
        "ax.set_xlabel('Predicted labels');\n",
        "ax.set_ylabel('True labels'); \n",
        "ax.set_title('Confusion Matrix'); \n",
        "#ax.xaxis.set_ticklabels(['0', '1']); \n",
        "#ax.yaxis.set_ticklabels(['0', '1']);"
      ],
      "execution_count": null,
      "outputs": [
        {
          "output_type": "display_data",
          "data": {
            "image/png": "[encoded data removed]",
            "text/plain": [
              "<Figure size 432x288 with 2 Axes>"
            ]
          },
          "metadata": {
            "needs_background": "light"
          }
        }
      ]
    }
  ]
}