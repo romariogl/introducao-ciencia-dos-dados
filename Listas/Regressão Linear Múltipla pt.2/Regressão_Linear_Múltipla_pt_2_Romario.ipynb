{
  "nbformat": 4,
  "nbformat_minor": 0,
  "metadata": {
    "colab": {
      "name": "Regressão Linear Múltipla pt. 2 - Romario.ipynb",
      "provenance": [],
      "collapsed_sections": []
    },
    "kernelspec": {
      "name": "python3",
      "display_name": "Python 3"
    },
    "language_info": {
      "name": "python"
    }
  },
  "cells": [
    {
      "cell_type": "markdown",
      "metadata": {
        "id": "8b5t-ZEzj7Xy"
      },
      "source": [
        "##Atividades pedidas e importando bibliotecas"
      ]
    },
    {
      "cell_type": "markdown",
      "metadata": {
        "id": "bNfQg8BBnvo1"
      },
      "source": [
        "Tarefas:\n",
        "1. Escolha uma base de dados e implemente um exemplo de como gerar resultados usando técnicas de uma regressão linear múltipla, considere dois modelos:  \n",
        "    a) Modelo completo (todas as variáveis independentes)  \n",
        "    b) Modelo reduzido (elimine aquelas variáveis que não contribuem   significantemente com o modelo)  \n",
        "2. Calcule:  \n",
        "    a) Os parâmetros Beta do modelo de regressão múltipla.  \n",
        "    b) SST = Total Sum of Squares.  \n",
        "    c) SSE = Explained Sum of Squares.  \n",
        "    d) SSR = Residual Sum of Squares.  \n",
        "3. Calcule R2 e R2 ajustado e também o  teste-F para os dois modelos.\n",
        "4. Mostre os gráficos de resíduos para verificação da Homocesdaticidade do Modelo.\n",
        "5. Mostre a tabela com a análise de resultados OLS - Ordinary Least Squares estimators. \n"
      ]
    },
    {
      "cell_type": "code",
      "metadata": {
        "id": "7IK9Qrywjyzp"
      },
      "source": [
        "#importanto bibliotecas\n",
        "import matplotlib.pyplot as plt\n",
        "import pandas as pd\n",
        "import numpy as np\n",
        "from sklearn import datasets, linear_model\n",
        "import statsmodels.api as sm\n",
        "from sklearn.metrics import mean_squared_error, r2_score\n",
        "from sklearn.model_selection import train_test_split"
      ],
      "execution_count": 100,
      "outputs": []
    },
    {
      "cell_type": "markdown",
      "metadata": {
        "id": "M2cC_DF4jcwv"
      },
      "source": [
        "##Modelo completo da regressão"
      ]
    },
    {
      "cell_type": "markdown",
      "metadata": {
        "id": "haOSVa3ioJjB"
      },
      "source": [
        "Utilizarei o dataset, onde analisarei quantidas de vendas de algumas empresas em relação ao seu investimento em algumas plataformas de marketing, youtube,  facebook e jornal."
      ]
    },
    {
      "cell_type": "code",
      "metadata": {
        "id": "9WVVr_9xoE1E",
        "colab": {
          "base_uri": "https://localhost:8080/"
        },
        "outputId": "24055799-05d5-43d2-c3a8-5424f0bfc106"
      },
      "source": [
        "#lendo o dataset\n",
        "df = pd.read_csv(\"Marketing_Data.csv\", header=0)\n",
        "print(df.shape)\n",
        "\n",
        "#Separando as variáveis dependentes e independentes do nosso modelo\n",
        "x = df[['youtube', 'facebook', 'newspaper']]\n",
        "y=df.loc[:,'sales']"
      ],
      "execution_count": 143,
      "outputs": [
        {
          "output_type": "stream",
          "name": "stdout",
          "text": [
            "(171, 4)\n"
          ]
        }
      ]
    },
    {
      "cell_type": "markdown",
      "metadata": {
        "id": "kfpKZ90KpcHq"
      },
      "source": [
        "Para o modelo completo utilizaremos todas as variáveis independentes:\n"
      ]
    },
    {
      "cell_type": "code",
      "metadata": {
        "colab": {
          "base_uri": "https://localhost:8080/",
          "height": 277
        },
        "id": "2nIRjAOspf7e",
        "outputId": "52fb7fa7-1aaf-44a3-ea3b-eb4b2fc8b516"
      },
      "source": [
        "#Gráfico em relação ao youtube\n",
        "plt.scatter(x.loc[:,'youtube'].values, y.values,  color='black')\n",
        "plt.xticks(())\n",
        "plt.yticks(())\n",
        "plt.title(\"Gráfico da quantidade de venda em relação ao marketing pelo youtube\")\n",
        "plt.xlabel(\"Investimento no Youtube (x 1.000 $)\")\n",
        "plt.ylabel(\"Vendas (x1.000 $)\")\n",
        "plt.show()"
      ],
      "execution_count": 144,
      "outputs": [
        {
          "output_type": "display_data",
          "data": {
            "image/png": "[encoded data removed]",
            "text/plain": [
              "<Figure size 432x288 with 1 Axes>"
            ]
          },
          "metadata": {}
        }
      ]
    },
    {
      "cell_type": "code",
      "metadata": {
        "colab": {
          "base_uri": "https://localhost:8080/",
          "height": 277
        },
        "id": "tNVhZY0lMlbU",
        "outputId": "edb38483-4def-4d3c-b557-a904d75a7bcf"
      },
      "source": [
        "#Gráfico em relação ao facebook\n",
        "plt.scatter(x.loc[:,'facebook'].values, y.values,  color='black')\n",
        "plt.xticks(())\n",
        "plt.yticks(())\n",
        "plt.title(\"Gráfico da quantidade de venda em relação ao marketing pelo facebook\")\n",
        "plt.xlabel(\"Investimento no Facebook (x 1.000 $)\")\n",
        "plt.ylabel(\"Vendas (x1.000 $)\")\n",
        "plt.show()"
      ],
      "execution_count": 145,
      "outputs": [
        {
          "output_type": "display_data",
          "data": {
            "image/png": "[encoded data removed]",
            "text/plain": [
              "<Figure size 432x288 with 1 Axes>"
            ]
          },
          "metadata": {}
        }
      ]
    },
    {
      "cell_type": "code",
      "metadata": {
        "colab": {
          "base_uri": "https://localhost:8080/",
          "height": 277
        },
        "id": "OQFmMn8xmuPQ",
        "outputId": "8d1ccc2d-1a69-435b-8054-28f7839ee936"
      },
      "source": [
        "#Gráfico em relação a jornais\n",
        "plt.scatter(x.loc[:,'newspaper'].values, y.values,  color='black')\n",
        "plt.xticks(())\n",
        "plt.yticks(())\n",
        "plt.title(\"Gráfico da quantidade de venda em relação ao marketing pelo jornal\")\n",
        "plt.xlabel(\"Investimento no Jornal (x 1.000 $)\")\n",
        "plt.ylabel(\"Vendas (x1.000 $)\")\n",
        "plt.show()"
      ],
      "execution_count": 146,
      "outputs": [
        {
          "output_type": "display_data",
          "data": {
            "image/png": "[encoded data removed]",
            "text/plain": [
              "<Figure size 432x288 with 1 Axes>"
            ]
          },
          "metadata": {}
        }
      ]
    },
    {
      "cell_type": "markdown",
      "metadata": {
        "id": "vOKFdlilEyPN"
      },
      "source": [
        "Vamos separar o dataset entre amostras de treino e teste"
      ]
    },
    {
      "cell_type": "code",
      "metadata": {
        "colab": {
          "base_uri": "https://localhost:8080/"
        },
        "id": "cS3WCU9EE1lq",
        "outputId": "b0e03c60-cf61-4b92-cb1b-06eff004ea5d"
      },
      "source": [
        "#Separando entre dados de teste e dados de treino\n",
        "x_train, x_test, y_train, y_test = train_test_split(x, y)\n",
        "print(x_train.shape, y_train.shape, x_test.shape, y_test.shape)"
      ],
      "execution_count": 147,
      "outputs": [
        {
          "output_type": "stream",
          "name": "stdout",
          "text": [
            "(128, 3) (128,) (43, 3) (43,)\n"
          ]
        }
      ]
    },
    {
      "cell_type": "markdown",
      "metadata": {
        "id": "W0sRfn8cRxaP"
      },
      "source": [
        "Regressão Linear utilizando a biblioteca do SKLearn"
      ]
    },
    {
      "cell_type": "code",
      "metadata": {
        "colab": {
          "base_uri": "https://localhost:8080/"
        },
        "id": "OdlxR3CbsM0k",
        "outputId": "475b6d18-7456-4a6b-c1ab-8ad47a6bbc61"
      },
      "source": [
        "regr = linear_model.LinearRegression()\n",
        "regr.fit(x_train,y_train)"
      ],
      "execution_count": 148,
      "outputs": [
        {
          "output_type": "execute_result",
          "data": {
            "text/plain": [
              "LinearRegression(copy_X=True, fit_intercept=True, n_jobs=None, normalize=False)"
            ]
          },
          "metadata": {},
          "execution_count": 148
        }
      ]
    },
    {
      "cell_type": "markdown",
      "metadata": {
        "id": "vBNGbx2FR-kh"
      },
      "source": [
        "Fazendo a predição de dados utilizando a regressão encontrada pelo SKLearn"
      ]
    },
    {
      "cell_type": "code",
      "metadata": {
        "colab": {
          "base_uri": "https://localhost:8080/"
        },
        "id": "PYTrhWcZBejv",
        "outputId": "1ef0ae4a-a5c1-4b78-bd95-e7282baac204"
      },
      "source": [
        "y_pred = regr.predict(x_test)\n",
        "print(y_pred)\n"
      ],
      "execution_count": 149,
      "outputs": [
        {
          "output_type": "stream",
          "name": "stdout",
          "text": [
            "[28.8680674  17.44004875 11.75546385 12.19644915 18.77806559 11.45080364\n",
            "  7.72229397 27.37737538 27.8610771  27.80507247 14.84078911 12.9021189\n",
            " 18.82146369 20.73514649  8.36239278 24.20421184 11.77377733  6.34600428\n",
            " 21.62199909 16.38431325 13.73288036 19.87295157 11.95576313 24.8454641\n",
            " 16.42374933 23.36552633 28.80503352  7.3412934  12.6543658  14.12565597\n",
            "  9.43691865 25.39347979  7.25451756  5.33356212 11.31670753  6.34435953\n",
            " 28.41810681 10.36504323 17.12768135 11.89773576 15.80643794 20.58526896\n",
            " 15.60744004]\n"
          ]
        }
      ]
    },
    {
      "cell_type": "markdown",
      "metadata": {
        "id": "MuczW6Sk1h_h"
      },
      "source": [
        "Regressão Linear utilizando o StatsModel"
      ]
    },
    {
      "cell_type": "code",
      "metadata": {
        "id": "3eAzf8NK1iW0"
      },
      "source": [
        "x_train = sm.add_constant(x_train) \n",
        "model = sm.OLS(y_train.astype(float), x_train.astype(float)).fit()"
      ],
      "execution_count": 150,
      "outputs": []
    },
    {
      "cell_type": "markdown",
      "metadata": {
        "id": "s320lGgMBdEJ"
      },
      "source": [
        "Fazendo a predição de dados utilizando a regressão encontrada pelo StatsModel"
      ]
    },
    {
      "cell_type": "code",
      "metadata": {
        "colab": {
          "base_uri": "https://localhost:8080/"
        },
        "id": "3bQDm_bO7sYP",
        "outputId": "1dd0ebef-f96c-4f42-e032-8b3d13d2b872"
      },
      "source": [
        "y_pred1 =  model.predict(x_train)\n",
        "x_test = sm.add_constant(x_test)\n",
        "y_pred2 =  model.predict(x_test) # predict out of sample\n",
        "print(y_pred2)"
      ],
      "execution_count": 151,
      "outputs": [
        {
          "output_type": "stream",
          "name": "stdout",
          "text": [
            "154    28.868067\n",
            "54     17.440049\n",
            "109    11.755464\n",
            "53     12.196449\n",
            "89     18.778066\n",
            "50     11.450804\n",
            "88      7.722294\n",
            "32     27.377375\n",
            "118    27.861077\n",
            "72     27.805072\n",
            "67     14.840789\n",
            "97     12.902119\n",
            "58     18.821464\n",
            "134    20.735146\n",
            "78      8.362393\n",
            "25     24.204212\n",
            "61     11.773777\n",
            "166     6.346004\n",
            "76     21.621999\n",
            "71     16.384313\n",
            "51     13.732880\n",
            "33     19.872952\n",
            "9      11.955763\n",
            "108    24.845464\n",
            "83     16.423749\n",
            "80     23.365526\n",
            "69     28.805034\n",
            "77      7.341293\n",
            "42     12.654366\n",
            "59     14.125656\n",
            "100     9.436919\n",
            "64     25.393480\n",
            "160     7.254518\n",
            "62      5.333562\n",
            "111    11.316708\n",
            "126     6.344360\n",
            "169    28.418107\n",
            "27     10.365043\n",
            "142    17.127681\n",
            "122    11.897736\n",
            "34     15.806438\n",
            "45     20.585269\n",
            "86     15.607440\n",
            "dtype: float64\n"
          ]
        }
      ]
    },
    {
      "cell_type": "markdown",
      "metadata": {
        "id": "XYf7TjR6o8bn"
      },
      "source": [
        "Agora vamos calcular SST, SSE, SSR, R² e R² ajustado:"
      ]
    },
    {
      "cell_type": "code",
      "metadata": {
        "colab": {
          "base_uri": "https://localhost:8080/"
        },
        "id": "Ylg9uFS0pmNZ",
        "outputId": "c40bd97f-5bd7-404f-c5b4-b3f34d6a4865"
      },
      "source": [
        "ssr = 0\n",
        "y_test = y_test.values\n",
        "y_train = y_train.values\n",
        "y_pred1 = y_pred1.values\n",
        "y_pred2 = y_pred2.values\n",
        "residues = []\n",
        "\n",
        "for j in range(y_train.shape[0]):\n",
        "  ssr += (y_train[j] - y_pred1[j])**2\n",
        "  residues.append((y_train[j] - y_pred1[j]))\n",
        "\n",
        "\n",
        "for i in range(len(y_test)):\n",
        "  ssr += (y_test[i] - y_pred2[i])**2\n",
        "  residues.append((y_test[i] - y_pred2[i]))\n",
        "\n",
        "\n",
        "print(\"SSR: \", ssr)\n",
        "\n",
        "x = x.values\n",
        "y = y.values\n",
        "\n",
        "aux = 0\n",
        "for i in range(len(x)):\n",
        "  aux += (y[i] - np.mean(y))**2\n",
        "\n",
        "sst = np.sum(aux)\n",
        "sse = sst-ssr\n",
        "\n",
        "print(\"SSE: \", sse)\n",
        "\n",
        "print(\"SST: \", sst)\n",
        "\n",
        "print(\"coeficiente de determinação: \",sse/sst)\n",
        "\n",
        "\n",
        "r2ajus = 1-(ssr*(x.shape[0]-1))/(sst*(x.shape[0]-x.shape[1]-1))\n",
        "print(\"Coeficiente de determinção ajustado: \", r2ajus)\n"
      ],
      "execution_count": 152,
      "outputs": [
        {
          "output_type": "stream",
          "name": "stdout",
          "text": [
            "SSR:  682.2430565964711\n",
            "SSE:  6096.382796035108\n",
            "SST:  6778.62585263158\n",
            "coeficiente de determinação:  0.8993537818093894\n",
            "Coeficiente de determinção ajustado:  0.8975457659137498\n"
          ]
        }
      ]
    },
    {
      "cell_type": "markdown",
      "metadata": {
        "id": "-bBhryLFSOrr"
      },
      "source": [
        "Por fim, printando todos os dados pedidos:"
      ]
    },
    {
      "cell_type": "code",
      "metadata": {
        "colab": {
          "base_uri": "https://localhost:8080/"
        },
        "id": "4pne7BDKSRtP",
        "outputId": "78c82293-0760-4232-e8fa-98aebf0dabfc"
      },
      "source": [
        "print(\"R-squared: \", model.rsquared)\n",
        "print(\"F-statisc: \", model.fvalue, \"\\n\")\n",
        "\n",
        "print(\"Dados retirados pelo SKLearn: \")\n",
        "print(\"Beta 0, 1, 2, 3: \", regr.intercept_, regr.coef_)\n",
        "print(\"Coeficiente de determinação: \", r2_score(y_test, y_pred),)\n",
        "print(\"Erro quadrático médio: \", mean_squared_error(y_test, y_pred), \"\\n\")\n",
        "\n",
        "print(\"Dados retirados pelo StatsModel: \")\n",
        "print(\"Beta 0, 1, 2, 3 (Coef):\\n\", model.params)\n",
        "\n"
      ],
      "execution_count": 153,
      "outputs": [
        {
          "output_type": "stream",
          "name": "stdout",
          "text": [
            "R-squared:  0.8817854405719008\n",
            "F-statisc:  308.3133898223977 \n",
            "\n",
            "Dados retirados pelo SKLearn: \n",
            "Beta 0, 1, 2, 3:  3.431024731137283 [0.04467934 0.19323491 0.00053837]\n",
            "Coeficiente de determinação:  0.9340766877952198\n",
            "Erro quadrático médio:  3.486300507780293 \n",
            "\n",
            "Dados retirados pelo StatsModel: \n",
            "Beta 0, 1, 2, 3 (Coef):\n",
            " const        3.431025\n",
            "youtube      0.044679\n",
            "facebook     0.193235\n",
            "newspaper    0.000538\n",
            "dtype: float64\n"
          ]
        }
      ]
    },
    {
      "cell_type": "markdown",
      "metadata": {
        "id": "Jm-NLrkDnsXl"
      },
      "source": [
        "Tabela de análise OLS:"
      ]
    },
    {
      "cell_type": "code",
      "metadata": {
        "colab": {
          "base_uri": "https://localhost:8080/"
        },
        "id": "41ePlOhKnxJA",
        "outputId": "73804d57-9f17-4fbc-eefc-1adfc5bc5747"
      },
      "source": [
        "print(model.summary())"
      ],
      "execution_count": 154,
      "outputs": [
        {
          "output_type": "stream",
          "name": "stdout",
          "text": [
            "                            OLS Regression Results                            \n",
            "==============================================================================\n",
            "Dep. Variable:                  sales   R-squared:                       0.882\n",
            "Model:                            OLS   Adj. R-squared:                  0.879\n",
            "Method:                 Least Squares   F-statistic:                     308.3\n",
            "Date:                Thu, 21 Oct 2021   Prob (F-statistic):           2.69e-57\n",
            "Time:                        14:43:56   Log-Likelihood:                -272.84\n",
            "No. Observations:                 128   AIC:                             553.7\n",
            "Df Residuals:                     124   BIC:                             565.1\n",
            "Df Model:                           3                                         \n",
            "Covariance Type:            nonrobust                                         \n",
            "==============================================================================\n",
            "                 coef    std err          t      P>|t|      [0.025      0.975]\n",
            "------------------------------------------------------------------------------\n",
            "const          3.4310      0.516      6.644      0.000       2.409       4.453\n",
            "youtube        0.0447      0.002     24.072      0.000       0.041       0.048\n",
            "facebook       0.1932      0.010     18.650      0.000       0.173       0.214\n",
            "newspaper      0.0005      0.008      0.065      0.948      -0.016       0.017\n",
            "==============================================================================\n",
            "Omnibus:                       51.954   Durbin-Watson:                   1.882\n",
            "Prob(Omnibus):                  0.000   Jarque-Bera (JB):              164.905\n",
            "Skew:                          -1.499   Prob(JB):                     1.55e-36\n",
            "Kurtosis:                       7.683   Cond. No.                         594.\n",
            "==============================================================================\n",
            "\n",
            "Warnings:\n",
            "[1] Standard Errors assume that the covariance matrix of the errors is correctly specified.\n"
          ]
        }
      ]
    },
    {
      "cell_type": "markdown",
      "metadata": {
        "id": "dTQGbPbVnxWP"
      },
      "source": [
        "Gráficos de resíduos"
      ]
    },
    {
      "cell_type": "code",
      "metadata": {
        "colab": {
          "base_uri": "https://localhost:8080/",
          "height": 277
        },
        "id": "qMi-DDRGvrID",
        "outputId": "45f3e3b5-ec6e-47dd-e8f6-073734981c8c"
      },
      "source": [
        "#Gráfico de resíduos para estudar a homocedasticidade \n",
        "predicted = np.concatenate([y_pred1, y_pred2], axis=0)\n",
        "plt.scatter(predicted,  residues,  color='black', s=80)\n",
        "plt.xticks([0])\n",
        "plt.title(\"Gráfico da resíduos em relação ao luco de vendas predito (y)\")\n",
        "plt.xlabel(\"y predito (x1.000 $)\")\n",
        "plt.ylabel(\"Resíduos (x1.000 $)\")\n",
        "plt.grid(True)\n",
        "plt.show()"
      ],
      "execution_count": 155,
      "outputs": [
        {
          "output_type": "display_data",
          "data": {
            "image/png": "[encoded data removed]",
            "text/plain": [
              "<Figure size 432x288 with 1 Axes>"
            ]
          },
          "metadata": {
            "needs_background": "light"
          }
        }
      ]
    },
    {
      "cell_type": "markdown",
      "metadata": {
        "id": "VoMH8hNbjmMF"
      },
      "source": [
        "##Modelo reduzido"
      ]
    },
    {
      "cell_type": "markdown",
      "metadata": {
        "id": "ezLgiQ_nWy_W"
      },
      "source": [
        "É possível perceber pelos valores de t-student que a variável que pior influência o modelo é a do jornal, portanto vamos retirá-la e aplicar os mesmos procedimentos para o modelo reduzido"
      ]
    },
    {
      "cell_type": "markdown",
      "metadata": {
        "id": "BNrNXiZ7X-HP"
      },
      "source": [
        "Relendo o dataset e separando as variáveis que usaremos:"
      ]
    },
    {
      "cell_type": "code",
      "metadata": {
        "colab": {
          "base_uri": "https://localhost:8080/"
        },
        "id": "xbqeU-yDXySQ",
        "outputId": "b2f20683-1a6c-46fa-f7a6-70bc5626244f"
      },
      "source": [
        "#relendo o dataset\n",
        "df = pd.read_csv(\"Marketing_Data.csv\", header=0)\n",
        "print(df.shape)\n",
        "\n",
        "#Separando as variáveis dependentes e independentes do nosso modelo\n",
        "x = df[['youtube', 'facebook']]\n",
        "y=df.loc[:,'sales']\n",
        "\n",
        "#Separando entre dados de teste e dados de treino\n",
        "x_train, x_test, y_train, y_test = train_test_split(x, y)\n",
        "print(x_train.shape, y_train.shape, x_test.shape, y_test.shape)"
      ],
      "execution_count": 190,
      "outputs": [
        {
          "output_type": "stream",
          "name": "stdout",
          "text": [
            "(171, 4)\n",
            "(128, 2) (128,) (43, 2) (43,)\n"
          ]
        }
      ]
    },
    {
      "cell_type": "markdown",
      "metadata": {
        "id": "ZfRCIX1GYctO"
      },
      "source": [
        "Regressão Linear usando SKLearn:"
      ]
    },
    {
      "cell_type": "code",
      "metadata": {
        "colab": {
          "base_uri": "https://localhost:8080/"
        },
        "id": "Fd19DjuCYpZQ",
        "outputId": "a4535c67-33fc-4fcd-f443-93f4e44c2158"
      },
      "source": [
        "regr = linear_model.LinearRegression()\n",
        "regr.fit(x_train,y_train)"
      ],
      "execution_count": 191,
      "outputs": [
        {
          "output_type": "execute_result",
          "data": {
            "text/plain": [
              "LinearRegression(copy_X=True, fit_intercept=True, n_jobs=None, normalize=False)"
            ]
          },
          "metadata": {},
          "execution_count": 191
        }
      ]
    },
    {
      "cell_type": "markdown",
      "metadata": {
        "id": "3vdw69aPYfUk"
      },
      "source": [
        "Predizendo dados com SKLearn:"
      ]
    },
    {
      "cell_type": "code",
      "metadata": {
        "colab": {
          "base_uri": "https://localhost:8080/"
        },
        "id": "utcjDH5DYqQr",
        "outputId": "c8061d45-f1f0-47fb-8c8a-b04396d74d58"
      },
      "source": [
        "y_pred = regr.predict(x_test)\n",
        "print(y_pred)"
      ],
      "execution_count": 192,
      "outputs": [
        {
          "output_type": "stream",
          "name": "stdout",
          "text": [
            "[24.22887533 12.32458762 13.05952066 20.35671714 16.8184825  19.65561221\n",
            " 14.8563299  10.20451801 29.02717254 11.89914222 11.09402646  8.8494179\n",
            " 15.27442403  9.48465836 26.19921002 18.41931891 18.72817252 12.17779518\n",
            " 16.15133028 14.49268834 19.22822776 15.50471752 12.23298513  9.28398943\n",
            " 18.41822203 18.39972349 14.3120055  16.77443982 20.22982869 28.6346438\n",
            " 11.50439846  9.76798763 16.56891061 20.81007453 10.63679243 11.18131216\n",
            " 16.8874126  12.23177501 17.7745928   7.81902323 23.3046145  26.50324294\n",
            "  9.93320641]\n"
          ]
        }
      ]
    },
    {
      "cell_type": "markdown",
      "metadata": {
        "id": "JCgTaXd1YiC_"
      },
      "source": [
        "Regressão Linear com o StatsModel: "
      ]
    },
    {
      "cell_type": "code",
      "metadata": {
        "id": "q2RGfJA9Z3EW"
      },
      "source": [
        "x_train = sm.add_constant(x_train) \n",
        "model = sm.OLS(y_train.astype(float), x_train.astype(float)).fit()"
      ],
      "execution_count": 194,
      "outputs": []
    },
    {
      "cell_type": "markdown",
      "metadata": {
        "id": "-vG5braTYk0U"
      },
      "source": [
        "Predizendo dados com StatsModel: \n"
      ]
    },
    {
      "cell_type": "code",
      "metadata": {
        "colab": {
          "base_uri": "https://localhost:8080/"
        },
        "id": "-ceQilf3Z6Ch",
        "outputId": "36448ea8-2e47-4ea4-f1c2-da103f286699"
      },
      "source": [
        "y_pred1 =  model.predict(x_train)\n",
        "x_test = sm.add_constant(x_test)\n",
        "y_pred2 =  model.predict(x_test) # predict out of sample\n",
        "print(y_pred2)"
      ],
      "execution_count": 195,
      "outputs": [
        {
          "output_type": "stream",
          "name": "stdout",
          "text": [
            "24     24.228875\n",
            "122    12.324588\n",
            "101    13.059521\n",
            "6      20.356717\n",
            "152    16.818483\n",
            "19     19.655612\n",
            "46     14.856330\n",
            "20     10.204518\n",
            "69     29.027173\n",
            "50     11.899142\n",
            "49     11.094026\n",
            "78      8.849418\n",
            "67     15.274424\n",
            "3       9.484658\n",
            "18     26.199210\n",
            "94     18.419319\n",
            "102    18.728173\n",
            "109    12.177795\n",
            "138    16.151330\n",
            "59     14.492688\n",
            "8      19.228228\n",
            "168    15.504718\n",
            "128    12.232985\n",
            "141     9.283989\n",
            "16     18.418222\n",
            "117    18.399723\n",
            "57     14.312005\n",
            "71     16.774440\n",
            "33     20.229829\n",
            "169    28.634644\n",
            "22     11.504398\n",
            "36      9.767988\n",
            "145    16.568911\n",
            "139    20.810075\n",
            "103    10.636792\n",
            "15     11.181312\n",
            "14     16.887413\n",
            "61     12.231775\n",
            "54     17.774593\n",
            "77      7.819023\n",
            "104    23.304615\n",
            "29     26.503243\n",
            "92      9.933206\n",
            "dtype: float64\n"
          ]
        }
      ]
    },
    {
      "cell_type": "markdown",
      "metadata": {
        "id": "wxghD11gZ869"
      },
      "source": [
        "Agora vamos calcular SST, SSE, SSR, R² e R² ajustado:"
      ]
    },
    {
      "cell_type": "code",
      "metadata": {
        "colab": {
          "base_uri": "https://localhost:8080/"
        },
        "id": "5n8t8c4bZ-l-",
        "outputId": "2abe17df-dba9-4cb4-dafb-7b5e0bdc28b4"
      },
      "source": [
        "ssr = 0\n",
        "y_test = y_test.values\n",
        "y_train = y_train.values\n",
        "y_pred1 = y_pred1.values\n",
        "y_pred2 = y_pred2.values\n",
        "residues = []\n",
        "\n",
        "for j in range(y_train.shape[0]):\n",
        "  ssr += (y_train[j] - y_pred1[j])**2\n",
        "  residues.append((y_train[j] - y_pred1[j]))\n",
        "\n",
        "\n",
        "for i in range(len(y_test)):\n",
        "  ssr += (y_test[i] - y_pred2[i])**2\n",
        "  residues.append((y_test[i] - y_pred2[i]))\n",
        "\n",
        "\n",
        "print(\"SSR: \", ssr)\n",
        "\n",
        "x = x.values\n",
        "y = y.values\n",
        "\n",
        "aux = 0\n",
        "for i in range(len(x)):\n",
        "  aux += (y[i] - np.mean(y))**2\n",
        "\n",
        "sst = np.sum(aux)\n",
        "sse = sst-ssr\n",
        "\n",
        "print(\"SSE: \", sse)\n",
        "\n",
        "print(\"SST: \", sst)\n",
        "\n",
        "print(\"coeficiente de determinação: \",sse/sst)\n",
        "\n",
        "\n",
        "r2ajus = 1-(ssr*(x.shape[0]-1))/(sst*(x.shape[0]-x.shape[1]-1))\n",
        "print(\"Coeficiente de determinção ajustado: \", r2ajus)"
      ],
      "execution_count": 196,
      "outputs": [
        {
          "output_type": "stream",
          "name": "stdout",
          "text": [
            "SSR:  685.3895931479003\n",
            "SSE:  6093.2362594836795\n",
            "SST:  6778.62585263158\n",
            "coeficiente de determinação:  0.8988895967931583\n",
            "Coeficiente de determinção ajustado:  0.8976859015168863\n"
          ]
        }
      ]
    },
    {
      "cell_type": "markdown",
      "metadata": {
        "id": "9B-orvy0aByf"
      },
      "source": [
        "Por fim, printando todos os dados pedidos:"
      ]
    },
    {
      "cell_type": "code",
      "metadata": {
        "colab": {
          "base_uri": "https://localhost:8080/"
        },
        "id": "IvajTElJaDey",
        "outputId": "39bb22ed-0009-4e6b-d641-cd95e1d5e35a"
      },
      "source": [
        "print(\"R-squared: \", model.rsquared)\n",
        "print(\"F-statisc: \", model.fvalue, \"\\n\")\n",
        "\n",
        "print(\"Dados retirados pelo SKLearn: \")\n",
        "print(\"Beta 0, 1, 2, 3: \", regr.intercept_, regr.coef_)\n",
        "print(\"Coeficiente de determinação: \", r2_score(y_test, y_pred),)\n",
        "print(\"Erro quadrático médio: \", mean_squared_error(y_test, y_pred), \"\\n\")\n",
        "\n",
        "print(\"Dados retirados pelo StatsModel: \")\n",
        "print(\"Beta 0, 1, 2, 3 (Coef):\\n\", model.params)"
      ],
      "execution_count": 197,
      "outputs": [
        {
          "output_type": "stream",
          "name": "stdout",
          "text": [
            "R-squared:  0.9222640008428022\n",
            "F-statisc:  741.5033019143735 \n",
            "\n",
            "Dados retirados pelo SKLearn: \n",
            "Beta 0, 1, 2, 3:  3.9790527751235203 [0.04426489 0.19030483]\n",
            "Coeficiente de determinação:  0.8189181924536908\n",
            "Erro quadrático médio:  6.9531484162264485 \n",
            "\n",
            "Dados retirados pelo StatsModel: \n",
            "Beta 0, 1, 2, 3 (Coef):\n",
            " const       3.979053\n",
            "youtube     0.044265\n",
            "facebook    0.190305\n",
            "dtype: float64\n"
          ]
        }
      ]
    },
    {
      "cell_type": "markdown",
      "metadata": {
        "id": "lb9sH7f4aIty"
      },
      "source": [
        "Tabela de análise OLS:"
      ]
    },
    {
      "cell_type": "code",
      "metadata": {
        "colab": {
          "base_uri": "https://localhost:8080/"
        },
        "id": "kOgXlN3iaJMg",
        "outputId": "604581d1-97d5-4d4b-cfd6-1a97b93303cd"
      },
      "source": [
        "print(model.summary())"
      ],
      "execution_count": 198,
      "outputs": [
        {
          "output_type": "stream",
          "name": "stdout",
          "text": [
            "                            OLS Regression Results                            \n",
            "==============================================================================\n",
            "Dep. Variable:                  sales   R-squared:                       0.922\n",
            "Model:                            OLS   Adj. R-squared:                  0.921\n",
            "Method:                 Least Squares   F-statistic:                     741.5\n",
            "Date:                Thu, 21 Oct 2021   Prob (F-statistic):           4.61e-70\n",
            "Time:                        14:47:39   Log-Likelihood:                -252.33\n",
            "No. Observations:                 128   AIC:                             510.7\n",
            "Df Residuals:                     125   BIC:                             519.2\n",
            "Df Model:                           2                                         \n",
            "Covariance Type:            nonrobust                                         \n",
            "==============================================================================\n",
            "                 coef    std err          t      P>|t|      [0.025      0.975]\n",
            "------------------------------------------------------------------------------\n",
            "const          3.9791      0.384     10.351      0.000       3.218       4.740\n",
            "youtube        0.0443      0.002     28.289      0.000       0.041       0.047\n",
            "facebook       0.1903      0.009     21.018      0.000       0.172       0.208\n",
            "==============================================================================\n",
            "Omnibus:                       14.912   Durbin-Watson:                   1.704\n",
            "Prob(Omnibus):                  0.001   Jarque-Bera (JB):               16.347\n",
            "Skew:                          -0.835   Prob(JB):                     0.000282\n",
            "Kurtosis:                       3.523   Cond. No.                         516.\n",
            "==============================================================================\n",
            "\n",
            "Warnings:\n",
            "[1] Standard Errors assume that the covariance matrix of the errors is correctly specified.\n"
          ]
        }
      ]
    },
    {
      "cell_type": "markdown",
      "metadata": {
        "id": "HdadEBCLaKR9"
      },
      "source": [
        "\n",
        "Gráficos de resíduos"
      ]
    },
    {
      "cell_type": "code",
      "metadata": {
        "colab": {
          "base_uri": "https://localhost:8080/",
          "height": 277
        },
        "id": "1cMCdcnZaMQg",
        "outputId": "bd755ef6-8234-4720-db62-d101d3224aee"
      },
      "source": [
        "#Gráfico de resíduos para estudar a homocedasticidade \n",
        "predicted = np.concatenate([y_pred1, y_pred2], axis=0)\n",
        "plt.scatter(predicted,  residues,  color='black', s=80)\n",
        "plt.xticks([0])\n",
        "plt.title(\"Gráfico da resíduos em relação ao luco de vendas predito (y)\")\n",
        "plt.xlabel(\"y predito (x1.000 $)\")\n",
        "plt.ylabel(\"Resíduos (x1.000 $)\")\n",
        "plt.grid(True)\n",
        "plt.show()"
      ],
      "execution_count": 199,
      "outputs": [
        {
          "output_type": "display_data",
          "data": {
            "image/png": "[encoded data removed]",
            "text/plain": [
              "<Figure size 432x288 with 1 Axes>"
            ]
          },
          "metadata": {
            "needs_background": "light"
          }
        }
      ]
    },
    {
      "cell_type": "markdown",
      "metadata": {
        "id": "GHD_H5KxlMR6"
      },
      "source": [
        "##Conclusões entre os dois modelos"
      ]
    },
    {
      "cell_type": "markdown",
      "metadata": {
        "id": "bD7lnIzWaNqX"
      },
      "source": [
        "Pelo gráfico de resíduos os dados não possuem homocedasticidade.\n",
        "\n",
        "Podemos perceber que existe uma melhora no modelo reduzido em comparação ao anterior, pois temos:  \n",
        "\n",
        "\n",
        "1.   Aumento no R² e R² ajustado.\n",
        "2.   Aumento no beta do \"Facebook\" após retirar o \"Newspaper\"\n",
        "3.   Valores de T-student mais confiáveis\n",
        "4.   Maior valor de F-statistic  \n",
        "\n",
        "Mas a mudança não é tão notável pois o dataset já possuía uma pouca quantidade de atributos. Seria possível ver uma melhora mais significativa com algum outro dataset"
      ]
    }
  ]
}