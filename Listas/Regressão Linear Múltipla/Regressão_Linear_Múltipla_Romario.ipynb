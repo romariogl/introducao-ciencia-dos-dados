{
  "nbformat": 4,
  "nbformat_minor": 0,
  "metadata": {
    "colab": {
      "name": "Regressão Linear Múltipla - Romario.ipynb",
      "provenance": [],
      "collapsed_sections": []
    },
    "kernelspec": {
      "name": "python3",
      "display_name": "Python 3"
    },
    "language_info": {
      "name": "python"
    }
  },
  "cells": [
    {
      "cell_type": "markdown",
      "metadata": {
        "id": "bNfQg8BBnvo1"
      },
      "source": [
        "Tarefas:\n",
        "1. Escolha uma base de dados.  \n",
        "2. Implemente a Regressão Linear Múltipla.  \n",
        "3. Calcule:  \n",
        "a) R-squared.  \n",
        "b) F-statistic.  \n",
        "c) Calcule os coeficientes da regressão.  \n",
        "d) Exemplifique o cálculo de uma predição, com dados que estão na base de teste, ou com dados estipulados por você.   \n",
        "e) Procure mostrar graficamente os resultados, quando possível.  \n"
      ]
    },
    {
      "cell_type": "code",
      "metadata": {
        "id": "7IK9Qrywjyzp"
      },
      "source": [
        "#importanto bibliotecas\n",
        "import matplotlib.pyplot as plt\n",
        "import pandas as pd\n",
        "import numpy as np\n",
        "from sklearn import datasets, linear_model\n",
        "import statsmodels.api as sm\n",
        "from sklearn.metrics import mean_squared_error, r2_score\n",
        "from sklearn.model_selection import train_test_split"
      ],
      "execution_count": 290,
      "outputs": []
    },
    {
      "cell_type": "markdown",
      "metadata": {
        "id": "haOSVa3ioJjB"
      },
      "source": [
        "Utilizarei o dataset, onde analisarei quantidas de vendas de algumas empresas em relação ao seu investimento em algumas plataformas de marketing, como o youtube e facebook."
      ]
    },
    {
      "cell_type": "code",
      "metadata": {
        "id": "9WVVr_9xoE1E",
        "colab": {
          "base_uri": "https://localhost:8080/"
        },
        "outputId": "2a2cfb09-04fb-4b79-d8f0-bed6fa1f5c05"
      },
      "source": [
        "#lendo o dataset\n",
        "df = pd.read_csv(\"Marketing_Data.csv\", header=0)\n",
        "print(df.shape)\n",
        "\n",
        "#Separando as variáveis dependentes e independentes do nosso modelo\n",
        "x = df[['youtube', 'facebook']]\n",
        "y=df.loc[:,'sales']"
      ],
      "execution_count": 291,
      "outputs": [
        {
          "output_type": "stream",
          "name": "stdout",
          "text": [
            "(171, 4)\n"
          ]
        }
      ]
    },
    {
      "cell_type": "markdown",
      "metadata": {
        "id": "kfpKZ90KpcHq"
      },
      "source": [
        "Para fazer a escolha das variáveis que vão aparecer no modelo vamos fazer a plotagem de alguns desses dados para verificar se apresenta linearidade. "
      ]
    },
    {
      "cell_type": "code",
      "metadata": {
        "colab": {
          "base_uri": "https://localhost:8080/",
          "height": 277
        },
        "id": "2nIRjAOspf7e",
        "outputId": "0171e654-91a3-45e6-f8a8-1497e25f7127"
      },
      "source": [
        "#Gráfico em relação ao youtube\n",
        "plt.scatter(x.loc[:,'youtube'].values, y.values,  color='black')\n",
        "plt.xticks(())\n",
        "plt.yticks(())\n",
        "plt.title(\"Gráfico da quantidade de venda em relação ao marketing pelo youtube\")\n",
        "plt.xlabel(\"Investimento no Youtube (x 1.000 $)\")\n",
        "plt.ylabel(\"Vendas (x1.000 $)\")\n",
        "plt.show()"
      ],
      "execution_count": 292,
      "outputs": [
        {
          "output_type": "display_data",
          "data": {
            "image/png": "[encoded data removed]",
            "text/plain": [
              "<Figure size 432x288 with 1 Axes>"
            ]
          },
          "metadata": {}
        }
      ]
    },
    {
      "cell_type": "code",
      "metadata": {
        "colab": {
          "base_uri": "https://localhost:8080/",
          "height": 277
        },
        "id": "tNVhZY0lMlbU",
        "outputId": "bb83802d-59d1-4ab6-e2d6-48c2d3801162"
      },
      "source": [
        "#Gráfico em relação ao facebook\n",
        "plt.scatter(x.loc[:,'facebook'].values, y.values,  color='black')\n",
        "plt.xticks(())\n",
        "plt.yticks(())\n",
        "plt.title(\"Gráfico da quantidade de venda em relação ao marketing pelo facebook\")\n",
        "plt.xlabel(\"Investimento no Facebook (x 1.000 $)\")\n",
        "plt.ylabel(\"Vendas (x1.000 $)\")\n",
        "plt.show()"
      ],
      "execution_count": 293,
      "outputs": [
        {
          "output_type": "display_data",
          "data": {
            "image/png": "[encoded data removed]",
            "text/plain": [
              "<Figure size 432x288 with 1 Axes>"
            ]
          },
          "metadata": {}
        }
      ]
    },
    {
      "cell_type": "markdown",
      "metadata": {
        "id": "vOKFdlilEyPN"
      },
      "source": [
        "Vamos separar o dataset entre amostras de treino e teste"
      ]
    },
    {
      "cell_type": "code",
      "metadata": {
        "colab": {
          "base_uri": "https://localhost:8080/"
        },
        "id": "cS3WCU9EE1lq",
        "outputId": "3013f3bf-5ec9-4344-be70-8060bd7beffc"
      },
      "source": [
        "#Separando entre dados de teste e dados de treino\n",
        "x_train, x_test, y_train, y_test = train_test_split(x, y)\n",
        "print(x_train.shape, y_train.shape, x_test.shape, y_test.shape)"
      ],
      "execution_count": 294,
      "outputs": [
        {
          "output_type": "stream",
          "name": "stdout",
          "text": [
            "(128, 2) (128,) (43, 2) (43,)\n"
          ]
        }
      ]
    },
    {
      "cell_type": "markdown",
      "metadata": {
        "id": "W0sRfn8cRxaP"
      },
      "source": [
        "Regressão Linear utilizando a biblioteca do SKLearn"
      ]
    },
    {
      "cell_type": "code",
      "metadata": {
        "colab": {
          "base_uri": "https://localhost:8080/"
        },
        "id": "OdlxR3CbsM0k",
        "outputId": "3d21f0b2-02ac-4e56-e1f0-ea76ae04266e"
      },
      "source": [
        "regr = linear_model.LinearRegression()\n",
        "regr.fit(x_train,y_train)"
      ],
      "execution_count": 295,
      "outputs": [
        {
          "output_type": "execute_result",
          "data": {
            "text/plain": [
              "LinearRegression(copy_X=True, fit_intercept=True, n_jobs=None, normalize=False)"
            ]
          },
          "metadata": {},
          "execution_count": 295
        }
      ]
    },
    {
      "cell_type": "markdown",
      "metadata": {
        "id": "vBNGbx2FR-kh"
      },
      "source": [
        "Fazendo a predição de dados utilizando a regressão encontrada pelo SKLearn"
      ]
    },
    {
      "cell_type": "code",
      "metadata": {
        "colab": {
          "base_uri": "https://localhost:8080/"
        },
        "id": "PYTrhWcZBejv",
        "outputId": "75f7e908-924b-456c-b83b-ca242a243de0"
      },
      "source": [
        "y_pred = regr.predict(x_test)\n",
        "print(y_pred)\n"
      ],
      "execution_count": 296,
      "outputs": [
        {
          "output_type": "stream",
          "name": "stdout",
          "text": [
            "[15.61674724 14.4105754  16.08923593  9.09028509 17.42556697 17.15729823\n",
            " 18.38674106 11.14705766 19.81562961  5.20788255  6.757485   23.37721212\n",
            " 16.40402388  8.98305529 10.07134105 16.89645872 19.81182255 14.31067035\n",
            " 18.70997767 10.96066738 19.77088935 15.17968615 25.81523132 17.84924177\n",
            " 14.94064009 22.24669511 10.91733501 22.54367617 21.9401589   7.24658165\n",
            " 20.29773774 12.74961191 22.3551131  21.68352566 15.21024707 22.37757901\n",
            " 20.95570177 20.83598451  5.24634157  8.78650706 19.68926005 28.2810881\n",
            " 29.33371321]\n"
          ]
        }
      ]
    },
    {
      "cell_type": "markdown",
      "metadata": {
        "id": "MuczW6Sk1h_h"
      },
      "source": [
        "Regressão Linear utilizando o StatsModel"
      ]
    },
    {
      "cell_type": "code",
      "metadata": {
        "colab": {
          "base_uri": "https://localhost:8080/"
        },
        "id": "3eAzf8NK1iW0",
        "outputId": "d4544693-0b70-456a-ec51-4c29897a43d3"
      },
      "source": [
        "x_train = sm.add_constant(x_train) \n",
        "model = sm.OLS(y_train.astype(float), x_train.astype(float)).fit()\n",
        "\n",
        "print(model.summary())"
      ],
      "execution_count": 297,
      "outputs": [
        {
          "output_type": "stream",
          "name": "stdout",
          "text": [
            "                            OLS Regression Results                            \n",
            "==============================================================================\n",
            "Dep. Variable:                  sales   R-squared:                       0.905\n",
            "Model:                            OLS   Adj. R-squared:                  0.903\n",
            "Method:                 Least Squares   F-statistic:                     595.4\n",
            "Date:                Tue, 12 Oct 2021   Prob (F-statistic):           1.28e-64\n",
            "Time:                        21:15:12   Log-Likelihood:                -270.67\n",
            "No. Observations:                 128   AIC:                             547.3\n",
            "Df Residuals:                     125   BIC:                             555.9\n",
            "Df Model:                           2                                         \n",
            "Covariance Type:            nonrobust                                         \n",
            "==============================================================================\n",
            "                 coef    std err          t      P>|t|      [0.025      0.975]\n",
            "------------------------------------------------------------------------------\n",
            "const          3.2961      0.439      7.510      0.000       2.427       4.165\n",
            "youtube        0.0467      0.002     26.511      0.000       0.043       0.050\n",
            "facebook       0.1932      0.010     19.453      0.000       0.174       0.213\n",
            "==============================================================================\n",
            "Omnibus:                       56.947   Durbin-Watson:                   2.241\n",
            "Prob(Omnibus):                  0.000   Jarque-Bera (JB):              193.713\n",
            "Skew:                          -1.633   Prob(JB):                     8.63e-43\n",
            "Kurtosis:                       8.065   Cond. No.                         500.\n",
            "==============================================================================\n",
            "\n",
            "Warnings:\n",
            "[1] Standard Errors assume that the covariance matrix of the errors is correctly specified.\n"
          ]
        }
      ]
    },
    {
      "cell_type": "markdown",
      "metadata": {
        "id": "s320lGgMBdEJ"
      },
      "source": [
        "Fazendo a predição de dados utilizando a regressão encontrada pelo StatsModel"
      ]
    },
    {
      "cell_type": "code",
      "metadata": {
        "colab": {
          "base_uri": "https://localhost:8080/"
        },
        "id": "3bQDm_bO7sYP",
        "outputId": "2d8b4948-e757-438b-f879-0a13797ab583"
      },
      "source": [
        "x_test = sm.add_constant(x_test)\n",
        "y_pred =  model.predict(x_test) # predict out of sample\n",
        "print(y_pred)"
      ],
      "execution_count": 298,
      "outputs": [
        {
          "output_type": "stream",
          "name": "stdout",
          "text": [
            "86     15.616747\n",
            "87     14.410575\n",
            "138    16.089236\n",
            "3       9.090285\n",
            "91     17.425567\n",
            "131    17.157298\n",
            "56     18.386741\n",
            "22     11.147058\n",
            "84     19.815630\n",
            "47      5.207883\n",
            "31      6.757485\n",
            "104    23.377212\n",
            "93     16.404024\n",
            "5       8.983055\n",
            "103    10.071341\n",
            "106    16.896459\n",
            "11     19.811823\n",
            "105    14.310670\n",
            "125    18.709978\n",
            "0      10.960667\n",
            "66     19.770889\n",
            "67     15.179686\n",
            "64     25.815231\n",
            "81     17.849242\n",
            "130    14.940640\n",
            "121    22.246695\n",
            "96     10.917335\n",
            "159    22.543676\n",
            "30     21.940159\n",
            "77      7.246582\n",
            "33     20.297738\n",
            "97     12.749612\n",
            "112    22.355113\n",
            "140    21.683526\n",
            "21     15.210247\n",
            "164    22.377579\n",
            "45     20.955702\n",
            "139    20.835985\n",
            "62      5.246342\n",
            "141     8.786507\n",
            "19     19.689260\n",
            "118    28.281088\n",
            "69     29.333713\n",
            "dtype: float64\n"
          ]
        }
      ]
    },
    {
      "cell_type": "markdown",
      "metadata": {
        "id": "-bBhryLFSOrr"
      },
      "source": [
        "Por fim, printando todos os dados pedidos:"
      ]
    },
    {
      "cell_type": "code",
      "metadata": {
        "colab": {
          "base_uri": "https://localhost:8080/"
        },
        "id": "4pne7BDKSRtP",
        "outputId": "ac8154b5-f8ae-412c-c39e-85d44256cf3f"
      },
      "source": [
        "print(\"R-squared: \", model.rsquared)\n",
        "print(\"F-statisc: \", model.fvalue, \"\\n\")\n",
        "\n",
        "print(\"Dados retirados pelo SKLearn: \")\n",
        "print(\"Beta 0, 1, 2: \", regr.intercept_, regr.coef_)\n",
        "print(\"Coeficiente de determinação: \", r2_score(y_test, y_pred),)\n",
        "print(\"Erro quadrático médio: \", mean_squared_error(y_test, y_pred), \"\\n\")\n",
        "\n",
        "print(\"Dados retirados pelo StatsModel: \")\n",
        "print(\"Beta 0, 1, 2 (Coef):\\n\", model.params)\n",
        "\n"
      ],
      "execution_count": 304,
      "outputs": [
        {
          "output_type": "stream",
          "name": "stdout",
          "text": [
            "R-squared:  0.9050009740864347\n",
            "F-statisc:  595.4014826622059 \n",
            "\n",
            "Dados retirados pelo SKLearn: \n",
            "Beta 0, 1, 2:  3.2960861563511408 [0.04669514 0.19315465]\n",
            "Coeficiente de determinação:  0.8773480275542308\n",
            "Erro quadrático médio:  3.8619404939043678 \n",
            "\n",
            "Dados retirados pelo StatsModel: \n",
            "Beta 0, 1, 2 (Coef):\n",
            " const       3.296086\n",
            "youtube     0.046695\n",
            "facebook    0.193155\n",
            "dtype: float64\n"
          ]
        }
      ]
    },
    {
      "cell_type": "markdown",
      "metadata": {
        "id": "4QatQVe6JTu9"
      },
      "source": [
        "Podemos perceber que existe uma concordância entre os resultados utilizando ambos os métodos, é um indicativo da consistência das análises"
      ]
    }
  ]
}